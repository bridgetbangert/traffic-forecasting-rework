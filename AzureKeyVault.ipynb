{
 "cells": [
  {
   "cell_type": "code",
   "execution_count": 66,
   "id": "4af5f728-5a0b-4c86-9368-7de83ff7fffd",
   "metadata": {},
   "outputs": [],
   "source": [
    "import os\n",
    "from dotenv import load_dotenv\n",
    "from azure.identity import ClientSecretCredential\n",
    "from azure.mgmt.resource import ResourceManagementClient\n",
    "from azure.keyvault.secrets import SecretClient"
   ]
  },
  {
   "cell_type": "code",
   "execution_count": 68,
   "id": "a5e625f4-b19a-4244-9bc2-3d144403025f",
   "metadata": {},
   "outputs": [],
   "source": [
    "class KeyVault:\n",
    "    def __init__(self):\n",
    "        load_dotenv()\n",
    "        self.TENANT_ID = os.getenv(\"TENANT_ID\")\n",
    "        self.CLIENT_ID = os.getenv(\"CLIENT_ID\")\n",
    "        self.CLIENT_SECRET = os.getenv(\"CLIENT_SECRET\")\n",
    "        self.SUBSCRIPTION_ID = os.getenv(\"SUBSCRIPTION_ID\")\n",
    "        self.KEY_VAULT = os.getenv(\"KEY_VAULT\")\n",
    "\n",
    "    def get_tenant_id(self):\n",
    "        return self.TENANT_ID\n",
    "\n",
    "    def get_client_id(self):\n",
    "        return self.CLIENT_ID\n",
    "\n",
    "    def get_client_secret(self):\n",
    "        return self.CLIENT_SECRET\n",
    "\n",
    "    def get_subscription_id(self):\n",
    "        return self.SUBSCRIPTION_ID\n",
    "\n",
    "    def get_key_vault(self):\n",
    "        return self.KEY_VAULT\n",
    "\n",
    "    def get_key_vault_url(self):\n",
    "        return f\"https://{self.get_key_vault()}.vault.azure.net/\"\n",
    "\n",
    "    def get_credential(self):\n",
    "        return ClientSecretCredential(\n",
    "            tenant_id = self.get_tenant_id(), \n",
    "            client_id = self.get_client_id(), \n",
    "            client_secret = self.get_client_secret()\n",
    "        )\n",
    "\n",
    "    def get_resource_client(self):\n",
    "        return ResourceManagementClient(self.get_credential(), self.get_subscription_id())\n",
    "\n",
    "    def get_resource_groups(self):\n",
    "        return self.get_resource_client().resource_groups\n",
    "\n",
    "    def get_secret_client(self):\n",
    "        return SecretClient(vault_url = self.get_key_vault_url(), credential = self.get_credential())\n",
    "\n",
    "    def get_secret_properties(self):\n",
    "        return self.get_secret_client().list_properties_of_secrets()\n",
    "\n",
    "    def get_secret(self, secret_name):\n",
    "        return self.get_secret_client().get_secret(secret_name).value"
   ]
  }
 ],
 "metadata": {
  "kernelspec": {
   "display_name": "Python [conda env:base] *",
   "language": "python",
   "name": "conda-base-py"
  },
  "language_info": {
   "codemirror_mode": {
    "name": "ipython",
    "version": 3
   },
   "file_extension": ".py",
   "mimetype": "text/x-python",
   "name": "python",
   "nbconvert_exporter": "python",
   "pygments_lexer": "ipython3",
   "version": "3.12.7"
  }
 },
 "nbformat": 4,
 "nbformat_minor": 5
}
