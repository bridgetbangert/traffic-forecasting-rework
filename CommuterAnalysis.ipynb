{
 "cells": [
  {
   "cell_type": "code",
   "execution_count": 43,
   "id": "bdddbae9-429c-4235-9dad-34835548e97f",
   "metadata": {},
   "outputs": [],
   "source": [
    "import pandas as pd\n",
    "import requests"
   ]
  },
  {
   "cell_type": "code",
   "execution_count": 45,
   "id": "fbf352e7-d631-48bb-9ce4-d7c675989036",
   "metadata": {},
   "outputs": [],
   "source": [
    "%run ./AzureKeyVault.ipynb"
   ]
  },
  {
   "cell_type": "code",
   "execution_count": 12,
   "id": "9e9118c0-3788-4695-a4e0-5bfe600b363d",
   "metadata": {},
   "outputs": [],
   "source": [
    "df = pd.concat([\n",
    "    pd.read_excel('Data/table1.xlsx', skiprows=7),\n",
    "    pd.read_excel('Data/table2.xlsx', skiprows=7)])"
   ]
  },
  {
   "cell_type": "code",
   "execution_count": 14,
   "id": "cee0e89a-2922-4f34-ac10-5b5aa87f4f89",
   "metadata": {},
   "outputs": [
    {
     "data": {
      "text/plain": [
       "Index(['State FIPS Code', 'County FIPS Code', 'State Name', 'County Name',\n",
       "       'State FIPS Code.1', 'County FIPS Code.1', 'State Name.1',\n",
       "       'County Name.1', 'Workers in Commuting Flow', 'Margin of Error'],\n",
       "      dtype='object')"
      ]
     },
     "execution_count": 14,
     "metadata": {},
     "output_type": "execute_result"
    }
   ],
   "source": [
    "df.columns"
   ]
  },
  {
   "cell_type": "code",
   "execution_count": 16,
   "id": "3bdd6056-d9a1-4b15-9c12-067508e4ab8b",
   "metadata": {},
   "outputs": [],
   "source": [
    "df.columns = [\n",
    "    \"res_st_code\",\n",
    "    \"res_county_code\",\n",
    "    \"res_state\",\n",
    "    \"res_county\",\n",
    "    \"work_st_code\",\n",
    "    \"work_county_code\",\n",
    "    \"work_state\",\n",
    "    \"work_county\",\n",
    "    \"workers_in_flow\",\n",
    "    \"margin_err\"\n",
    "]"
   ]
  },
  {
   "cell_type": "code",
   "execution_count": 18,
   "id": "63c06189-7851-41c3-966f-27662b0db5b5",
   "metadata": {},
   "outputs": [],
   "source": [
    "df = df[[\"res_state\", \"res_county\", \"work_state\", \"work_county\", \"workers_in_flow\", \"margin_err\"]].dropna()"
   ]
  },
  {
   "cell_type": "code",
   "execution_count": 20,
   "id": "386b73d4-2c2e-406d-a530-b0b8de66bb4f",
   "metadata": {},
   "outputs": [
    {
     "data": {
      "text/html": [
       "<div>\n",
       "<style scoped>\n",
       "    .dataframe tbody tr th:only-of-type {\n",
       "        vertical-align: middle;\n",
       "    }\n",
       "\n",
       "    .dataframe tbody tr th {\n",
       "        vertical-align: top;\n",
       "    }\n",
       "\n",
       "    .dataframe thead th {\n",
       "        text-align: right;\n",
       "    }\n",
       "</style>\n",
       "<table border=\"1\" class=\"dataframe\">\n",
       "  <thead>\n",
       "    <tr style=\"text-align: right;\">\n",
       "      <th></th>\n",
       "      <th>res_state</th>\n",
       "      <th>res_county</th>\n",
       "      <th>work_state</th>\n",
       "      <th>work_county</th>\n",
       "      <th>workers_in_flow</th>\n",
       "      <th>margin_err</th>\n",
       "    </tr>\n",
       "  </thead>\n",
       "  <tbody>\n",
       "    <tr>\n",
       "      <th>101391</th>\n",
       "      <td>Texas</td>\n",
       "      <td>Harris County</td>\n",
       "      <td>Texas</td>\n",
       "      <td>Harris County</td>\n",
       "      <td>2014104.0</td>\n",
       "      <td>8305.0</td>\n",
       "    </tr>\n",
       "    <tr>\n",
       "      <th>100720</th>\n",
       "      <td>Texas</td>\n",
       "      <td>Harris County</td>\n",
       "      <td>Texas</td>\n",
       "      <td>Harris County</td>\n",
       "      <td>2014104.0</td>\n",
       "      <td>8305.0</td>\n",
       "    </tr>\n",
       "    <tr>\n",
       "      <th>99608</th>\n",
       "      <td>Texas</td>\n",
       "      <td>Dallas County</td>\n",
       "      <td>Texas</td>\n",
       "      <td>Dallas County</td>\n",
       "      <td>1061878.0</td>\n",
       "      <td>6761.0</td>\n",
       "    </tr>\n",
       "    <tr>\n",
       "      <th>98578</th>\n",
       "      <td>Texas</td>\n",
       "      <td>Dallas County</td>\n",
       "      <td>Texas</td>\n",
       "      <td>Dallas County</td>\n",
       "      <td>1061878.0</td>\n",
       "      <td>6761.0</td>\n",
       "    </tr>\n",
       "    <tr>\n",
       "      <th>98094</th>\n",
       "      <td>Texas</td>\n",
       "      <td>Bexar County</td>\n",
       "      <td>Texas</td>\n",
       "      <td>Bexar County</td>\n",
       "      <td>868962.0</td>\n",
       "      <td>6256.0</td>\n",
       "    </tr>\n",
       "    <tr>\n",
       "      <th>...</th>\n",
       "      <td>...</td>\n",
       "      <td>...</td>\n",
       "      <td>...</td>\n",
       "      <td>...</td>\n",
       "      <td>...</td>\n",
       "      <td>...</td>\n",
       "    </tr>\n",
       "    <tr>\n",
       "      <th>99295</th>\n",
       "      <td>Texas</td>\n",
       "      <td>Comanche County</td>\n",
       "      <td>Texas</td>\n",
       "      <td>Travis County</td>\n",
       "      <td>1.0</td>\n",
       "      <td>2.0</td>\n",
       "    </tr>\n",
       "    <tr>\n",
       "      <th>97517</th>\n",
       "      <td>Texas</td>\n",
       "      <td>Milam County</td>\n",
       "      <td>Texas</td>\n",
       "      <td>Cameron County</td>\n",
       "      <td>1.0</td>\n",
       "      <td>4.0</td>\n",
       "    </tr>\n",
       "    <tr>\n",
       "      <th>97512</th>\n",
       "      <td>Texas</td>\n",
       "      <td>Hockley County</td>\n",
       "      <td>Texas</td>\n",
       "      <td>Cameron County</td>\n",
       "      <td>1.0</td>\n",
       "      <td>4.0</td>\n",
       "    </tr>\n",
       "    <tr>\n",
       "      <th>98011</th>\n",
       "      <td>Texas</td>\n",
       "      <td>Bexar County</td>\n",
       "      <td>Georgia</td>\n",
       "      <td>DeKalb County</td>\n",
       "      <td>1.0</td>\n",
       "      <td>5.0</td>\n",
       "    </tr>\n",
       "    <tr>\n",
       "      <th>104431</th>\n",
       "      <td>Texas</td>\n",
       "      <td>Runnels County</td>\n",
       "      <td>Texas</td>\n",
       "      <td>Hays County</td>\n",
       "      <td>1.0</td>\n",
       "      <td>2.0</td>\n",
       "    </tr>\n",
       "  </tbody>\n",
       "</table>\n",
       "<p>17400 rows × 6 columns</p>\n",
       "</div>"
      ],
      "text/plain": [
       "       res_state       res_county work_state     work_county  workers_in_flow  \\\n",
       "101391     Texas    Harris County      Texas   Harris County        2014104.0   \n",
       "100720     Texas    Harris County      Texas   Harris County        2014104.0   \n",
       "99608      Texas    Dallas County      Texas   Dallas County        1061878.0   \n",
       "98578      Texas    Dallas County      Texas   Dallas County        1061878.0   \n",
       "98094      Texas     Bexar County      Texas    Bexar County         868962.0   \n",
       "...          ...              ...        ...             ...              ...   \n",
       "99295      Texas  Comanche County      Texas   Travis County              1.0   \n",
       "97517      Texas     Milam County      Texas  Cameron County              1.0   \n",
       "97512      Texas   Hockley County      Texas  Cameron County              1.0   \n",
       "98011      Texas     Bexar County    Georgia   DeKalb County              1.0   \n",
       "104431     Texas   Runnels County      Texas     Hays County              1.0   \n",
       "\n",
       "        margin_err  \n",
       "101391      8305.0  \n",
       "100720      8305.0  \n",
       "99608       6761.0  \n",
       "98578       6761.0  \n",
       "98094       6256.0  \n",
       "...            ...  \n",
       "99295          2.0  \n",
       "97517          4.0  \n",
       "97512          4.0  \n",
       "98011          5.0  \n",
       "104431         2.0  \n",
       "\n",
       "[17400 rows x 6 columns]"
      ]
     },
     "execution_count": 20,
     "metadata": {},
     "output_type": "execute_result"
    }
   ],
   "source": [
    "df[df[\"res_state\"] == \"Texas\"].sort_values(by=\"workers_in_flow\", ascending=False)"
   ]
  },
  {
   "cell_type": "code",
   "execution_count": null,
   "id": "0a3100ba-f32f-42a1-bc3c-f583ab052c7b",
   "metadata": {},
   "outputs": [],
   "source": []
  }
 ],
 "metadata": {
  "kernelspec": {
   "display_name": "Python [conda env:base] *",
   "language": "python",
   "name": "conda-base-py"
  },
  "language_info": {
   "codemirror_mode": {
    "name": "ipython",
    "version": 3
   },
   "file_extension": ".py",
   "mimetype": "text/x-python",
   "name": "python",
   "nbconvert_exporter": "python",
   "pygments_lexer": "ipython3",
   "version": "3.12.7"
  }
 },
 "nbformat": 4,
 "nbformat_minor": 5
}
