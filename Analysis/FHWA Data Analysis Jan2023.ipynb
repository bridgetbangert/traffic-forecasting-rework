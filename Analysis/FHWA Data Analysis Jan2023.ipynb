{
 "cells": [
  {
   "cell_type": "code",
   "execution_count": 1034,
   "id": "80d8c87b-7ae2-4004-b338-3f3e5662200c",
   "metadata": {},
   "outputs": [],
   "source": [
    "from azure.identity import DefaultAzureCredential\n",
    "from azure.storage.filedatalake import DataLakeServiceClient\n",
    "import io\n",
    "import pandas as pd\n",
    "import plotly.express as px\n",
    "import matplotlib.pyplot as plt\n",
    "import itertools\n",
    "import numpy as np\n",
    "from datetime import datetime\n",
    "from sklearn.preprocessing import StandardScaler\n",
    "from sklearn.compose import ColumnTransformer"
   ]
  },
  {
   "cell_type": "code",
   "execution_count": 609,
   "id": "c9ad1078-224b-4685-8b3b-9d0ba0d455a5",
   "metadata": {},
   "outputs": [],
   "source": [
    "%run ./AzureKeyVault.ipynb"
   ]
  },
  {
   "cell_type": "code",
   "execution_count": 610,
   "id": "ac37be44-48ab-4469-bc7f-1fc6ca5456e5",
   "metadata": {},
   "outputs": [],
   "source": [
    "adls_url = KeyVault().get_secret(\"ADLSAccountURL\")\n",
    "adls_container = KeyVault().get_secret(\"ADLSContainerName\")\n",
    "adls_access_key = KeyVault().get_secret(\"ADLSKey\")\n",
    "\n",
    "credential = DefaultAzureCredential()\n",
    "service_client = DataLakeServiceClient(account_url=adls_url, credential=credential)\n",
    "file_system_client = service_client.get_file_system_client(adls_container)\n",
    "\n",
    "# functions to grab the ADLS traffic data with stations data\n",
    "def get_traffic_data(file_name):\n",
    "    file_client = file_system_client.get_file_client(f\"fhwa/jan_2023/{file_name}\")\n",
    "    raw_data = file_client.download_file().readall()\n",
    "    file_content_str = raw_data.decode(\"utf-8\")\n",
    "    file_like = io.StringIO(file_content_str)\n",
    "    return pd.read_csv(file_like, sep='|')\n",
    "\n",
    "def get_station_data(file_name):\n",
    "    file_client = file_system_client.get_file_client(f\"fhwa/station_2023/{file_name}\")\n",
    "    raw_data = file_client.download_file().readall()\n",
    "    file_content_str = raw_data.decode(\"utf-8\")\n",
    "    file_like = io.StringIO(file_content_str)\n",
    "    return pd.read_csv(file_like, sep='|')"
   ]
  },
  {
   "cell_type": "markdown",
   "id": "456d5d88-6b09-4547-9e41-58ba730d955a",
   "metadata": {},
   "source": [
    "## Returned data"
   ]
  },
  {
   "cell_type": "markdown",
   "id": "6cb75b9d-f6c6-4063-8197-83c28326d932",
   "metadata": {},
   "source": [
    "#### Traffic volume data for Jan 2023 in Texas:"
   ]
  },
  {
   "cell_type": "code",
   "execution_count": 613,
   "id": "b19086be-1255-42da-82e9-b4b3511376e2",
   "metadata": {},
   "outputs": [
    {
     "data": {
      "text/html": [
       "<div>\n",
       "<style scoped>\n",
       "    .dataframe tbody tr th:only-of-type {\n",
       "        vertical-align: middle;\n",
       "    }\n",
       "\n",
       "    .dataframe tbody tr th {\n",
       "        vertical-align: top;\n",
       "    }\n",
       "\n",
       "    .dataframe thead th {\n",
       "        text-align: right;\n",
       "    }\n",
       "</style>\n",
       "<table border=\"1\" class=\"dataframe\">\n",
       "  <thead>\n",
       "    <tr style=\"text-align: right;\">\n",
       "      <th></th>\n",
       "      <th>record_type</th>\n",
       "      <th>state_code</th>\n",
       "      <th>f_system</th>\n",
       "      <th>station_id</th>\n",
       "      <th>travel_dir</th>\n",
       "      <th>travel_lane</th>\n",
       "      <th>year_record</th>\n",
       "      <th>month_record</th>\n",
       "      <th>day_record</th>\n",
       "      <th>day_of_week</th>\n",
       "      <th>...</th>\n",
       "      <th>hour_15</th>\n",
       "      <th>hour_16</th>\n",
       "      <th>hour_17</th>\n",
       "      <th>hour_18</th>\n",
       "      <th>hour_19</th>\n",
       "      <th>hour_20</th>\n",
       "      <th>hour_21</th>\n",
       "      <th>hour_22</th>\n",
       "      <th>hour_23</th>\n",
       "      <th>restrictions</th>\n",
       "    </tr>\n",
       "  </thead>\n",
       "  <tbody>\n",
       "    <tr>\n",
       "      <th>0</th>\n",
       "      <td>V</td>\n",
       "      <td>48</td>\n",
       "      <td>1U</td>\n",
       "      <td>000004</td>\n",
       "      <td>1</td>\n",
       "      <td>0</td>\n",
       "      <td>2023</td>\n",
       "      <td>1</td>\n",
       "      <td>1</td>\n",
       "      <td>1</td>\n",
       "      <td>...</td>\n",
       "      <td>4740</td>\n",
       "      <td>4821</td>\n",
       "      <td>4311</td>\n",
       "      <td>4200</td>\n",
       "      <td>3564</td>\n",
       "      <td>2839</td>\n",
       "      <td>2556</td>\n",
       "      <td>1968</td>\n",
       "      <td>1387</td>\n",
       "      <td>NaN</td>\n",
       "    </tr>\n",
       "    <tr>\n",
       "      <th>1</th>\n",
       "      <td>V</td>\n",
       "      <td>48</td>\n",
       "      <td>1U</td>\n",
       "      <td>000004</td>\n",
       "      <td>1</td>\n",
       "      <td>0</td>\n",
       "      <td>2023</td>\n",
       "      <td>1</td>\n",
       "      <td>2</td>\n",
       "      <td>2</td>\n",
       "      <td>...</td>\n",
       "      <td>4221</td>\n",
       "      <td>4756</td>\n",
       "      <td>4311</td>\n",
       "      <td>4078</td>\n",
       "      <td>2757</td>\n",
       "      <td>2862</td>\n",
       "      <td>2483</td>\n",
       "      <td>1924</td>\n",
       "      <td>1374</td>\n",
       "      <td>NaN</td>\n",
       "    </tr>\n",
       "    <tr>\n",
       "      <th>2</th>\n",
       "      <td>V</td>\n",
       "      <td>48</td>\n",
       "      <td>1U</td>\n",
       "      <td>000004</td>\n",
       "      <td>1</td>\n",
       "      <td>0</td>\n",
       "      <td>2023</td>\n",
       "      <td>1</td>\n",
       "      <td>3</td>\n",
       "      <td>3</td>\n",
       "      <td>...</td>\n",
       "      <td>4168</td>\n",
       "      <td>4021</td>\n",
       "      <td>4295</td>\n",
       "      <td>3891</td>\n",
       "      <td>3129</td>\n",
       "      <td>2524</td>\n",
       "      <td>2177</td>\n",
       "      <td>1735</td>\n",
       "      <td>1323</td>\n",
       "      <td>NaN</td>\n",
       "    </tr>\n",
       "    <tr>\n",
       "      <th>3</th>\n",
       "      <td>V</td>\n",
       "      <td>48</td>\n",
       "      <td>1U</td>\n",
       "      <td>000004</td>\n",
       "      <td>1</td>\n",
       "      <td>0</td>\n",
       "      <td>2023</td>\n",
       "      <td>1</td>\n",
       "      <td>4</td>\n",
       "      <td>4</td>\n",
       "      <td>...</td>\n",
       "      <td>4039</td>\n",
       "      <td>3821</td>\n",
       "      <td>4182</td>\n",
       "      <td>3753</td>\n",
       "      <td>3210</td>\n",
       "      <td>2401</td>\n",
       "      <td>1956</td>\n",
       "      <td>1563</td>\n",
       "      <td>1127</td>\n",
       "      <td>NaN</td>\n",
       "    </tr>\n",
       "    <tr>\n",
       "      <th>4</th>\n",
       "      <td>V</td>\n",
       "      <td>48</td>\n",
       "      <td>1U</td>\n",
       "      <td>000004</td>\n",
       "      <td>1</td>\n",
       "      <td>0</td>\n",
       "      <td>2023</td>\n",
       "      <td>1</td>\n",
       "      <td>5</td>\n",
       "      <td>5</td>\n",
       "      <td>...</td>\n",
       "      <td>4057</td>\n",
       "      <td>4049</td>\n",
       "      <td>4274</td>\n",
       "      <td>3871</td>\n",
       "      <td>3101</td>\n",
       "      <td>2513</td>\n",
       "      <td>1971</td>\n",
       "      <td>1668</td>\n",
       "      <td>1191</td>\n",
       "      <td>NaN</td>\n",
       "    </tr>\n",
       "  </tbody>\n",
       "</table>\n",
       "<p>5 rows × 35 columns</p>\n",
       "</div>"
      ],
      "text/plain": [
       "  record_type  state_code f_system station_id  travel_dir  travel_lane  \\\n",
       "0           V          48       1U     000004           1            0   \n",
       "1           V          48       1U     000004           1            0   \n",
       "2           V          48       1U     000004           1            0   \n",
       "3           V          48       1U     000004           1            0   \n",
       "4           V          48       1U     000004           1            0   \n",
       "\n",
       "   year_record  month_record  day_record  day_of_week  ...  hour_15  hour_16  \\\n",
       "0         2023             1           1            1  ...     4740     4821   \n",
       "1         2023             1           2            2  ...     4221     4756   \n",
       "2         2023             1           3            3  ...     4168     4021   \n",
       "3         2023             1           4            4  ...     4039     3821   \n",
       "4         2023             1           5            5  ...     4057     4049   \n",
       "\n",
       "   hour_17  hour_18  hour_19  hour_20  hour_21  hour_22  hour_23  restrictions  \n",
       "0     4311     4200     3564     2839     2556     1968     1387           NaN  \n",
       "1     4311     4078     2757     2862     2483     1924     1374           NaN  \n",
       "2     4295     3891     3129     2524     2177     1735     1323           NaN  \n",
       "3     4182     3753     3210     2401     1956     1563     1127           NaN  \n",
       "4     4274     3871     3101     2513     1971     1668     1191           NaN  \n",
       "\n",
       "[5 rows x 35 columns]"
      ]
     },
     "execution_count": 613,
     "metadata": {},
     "output_type": "execute_result"
    }
   ],
   "source": [
    "df = get_traffic_data(\"TX_JAN_2023 (TMAS).VOL\")\n",
    "df.head()"
   ]
  },
  {
   "cell_type": "markdown",
   "id": "c1ff1241-230c-4a7d-9178-75774ae39bc0",
   "metadata": {},
   "source": [
    "#### Traffic station data for all of 2023 in Texas"
   ]
  },
  {
   "cell_type": "code",
   "execution_count": 615,
   "id": "82721cc4-6e74-49c8-80f6-358018cd4811",
   "metadata": {},
   "outputs": [
    {
     "data": {
      "text/html": [
       "<div>\n",
       "<style scoped>\n",
       "    .dataframe tbody tr th:only-of-type {\n",
       "        vertical-align: middle;\n",
       "    }\n",
       "\n",
       "    .dataframe tbody tr th {\n",
       "        vertical-align: top;\n",
       "    }\n",
       "\n",
       "    .dataframe thead th {\n",
       "        text-align: right;\n",
       "    }\n",
       "</style>\n",
       "<table border=\"1\" class=\"dataframe\">\n",
       "  <thead>\n",
       "    <tr style=\"text-align: right;\">\n",
       "      <th></th>\n",
       "      <th>record_type</th>\n",
       "      <th>state_code</th>\n",
       "      <th>station_id</th>\n",
       "      <th>travel_dir</th>\n",
       "      <th>travel_lane</th>\n",
       "      <th>year_record</th>\n",
       "      <th>f_system</th>\n",
       "      <th>num_lanes</th>\n",
       "      <th>sample_type_volume</th>\n",
       "      <th>num_lanes_volume</th>\n",
       "      <th>...</th>\n",
       "      <th>year_discontinued</th>\n",
       "      <th>county_code</th>\n",
       "      <th>is_sample</th>\n",
       "      <th>sample_id</th>\n",
       "      <th>nhs</th>\n",
       "      <th>posted_route_signing</th>\n",
       "      <th>posted_signed_route</th>\n",
       "      <th>con_route_signing</th>\n",
       "      <th>con_signed_route</th>\n",
       "      <th>station_location</th>\n",
       "    </tr>\n",
       "  </thead>\n",
       "  <tbody>\n",
       "    <tr>\n",
       "      <th>0</th>\n",
       "      <td>S</td>\n",
       "      <td>48</td>\n",
       "      <td>000013</td>\n",
       "      <td>3</td>\n",
       "      <td>0</td>\n",
       "      <td>23</td>\n",
       "      <td>1R</td>\n",
       "      <td>2</td>\n",
       "      <td>T</td>\n",
       "      <td>2</td>\n",
       "      <td>...</td>\n",
       "      <td>0</td>\n",
       "      <td>223</td>\n",
       "      <td>N</td>\n",
       "      <td></td>\n",
       "      <td>Y</td>\n",
       "      <td>1</td>\n",
       "      <td>00000030</td>\n",
       "      <td>0</td>\n",
       "      <td></td>\n",
       "      <td>4.3 MILES WEST OF SH 19, SULPHUR SPRI         ...</td>\n",
       "    </tr>\n",
       "    <tr>\n",
       "      <th>1</th>\n",
       "      <td>S</td>\n",
       "      <td>48</td>\n",
       "      <td>000033</td>\n",
       "      <td>5</td>\n",
       "      <td>0</td>\n",
       "      <td>23</td>\n",
       "      <td>3R</td>\n",
       "      <td>1</td>\n",
       "      <td>T</td>\n",
       "      <td>1</td>\n",
       "      <td>...</td>\n",
       "      <td>0</td>\n",
       "      <td>123</td>\n",
       "      <td>N</td>\n",
       "      <td></td>\n",
       "      <td>Y</td>\n",
       "      <td>2</td>\n",
       "      <td>00000183</td>\n",
       "      <td>0</td>\n",
       "      <td></td>\n",
       "      <td>1.9 MILES NORTH OF FM 1447, CUERO             ...</td>\n",
       "    </tr>\n",
       "    <tr>\n",
       "      <th>2</th>\n",
       "      <td>S</td>\n",
       "      <td>48</td>\n",
       "      <td>000088</td>\n",
       "      <td>7</td>\n",
       "      <td>0</td>\n",
       "      <td>23</td>\n",
       "      <td>5R</td>\n",
       "      <td>1</td>\n",
       "      <td>T</td>\n",
       "      <td>1</td>\n",
       "      <td>...</td>\n",
       "      <td>0</td>\n",
       "      <td>193</td>\n",
       "      <td>N</td>\n",
       "      <td></td>\n",
       "      <td>N</td>\n",
       "      <td>8</td>\n",
       "      <td>00000218</td>\n",
       "      <td>0</td>\n",
       "      <td></td>\n",
       "      <td>1.1 MILES SOUTHWEST OF SH 36, HAMILTO         ...</td>\n",
       "    </tr>\n",
       "    <tr>\n",
       "      <th>3</th>\n",
       "      <td>S</td>\n",
       "      <td>48</td>\n",
       "      <td>000096</td>\n",
       "      <td>1</td>\n",
       "      <td>0</td>\n",
       "      <td>23</td>\n",
       "      <td>2R</td>\n",
       "      <td>2</td>\n",
       "      <td>T</td>\n",
       "      <td>2</td>\n",
       "      <td>...</td>\n",
       "      <td>0</td>\n",
       "      <td>49</td>\n",
       "      <td>N</td>\n",
       "      <td></td>\n",
       "      <td>Y</td>\n",
       "      <td>2</td>\n",
       "      <td>00000067</td>\n",
       "      <td>0</td>\n",
       "      <td></td>\n",
       "      <td>4.6 MILES NORTHEAST OF US 183, BROWNW         ...</td>\n",
       "    </tr>\n",
       "    <tr>\n",
       "      <th>4</th>\n",
       "      <td>S</td>\n",
       "      <td>48</td>\n",
       "      <td>000029</td>\n",
       "      <td>5</td>\n",
       "      <td>0</td>\n",
       "      <td>23</td>\n",
       "      <td>3R</td>\n",
       "      <td>1</td>\n",
       "      <td>T</td>\n",
       "      <td>1</td>\n",
       "      <td>...</td>\n",
       "      <td>0</td>\n",
       "      <td>323</td>\n",
       "      <td>N</td>\n",
       "      <td></td>\n",
       "      <td>Y</td>\n",
       "      <td>2</td>\n",
       "      <td>00000277</td>\n",
       "      <td>0</td>\n",
       "      <td></td>\n",
       "      <td>7.1 MILES SOUTH OF SH 131, EAGLE PASS         ...</td>\n",
       "    </tr>\n",
       "  </tbody>\n",
       "</table>\n",
       "<p>5 rows × 41 columns</p>\n",
       "</div>"
      ],
      "text/plain": [
       "  record_type  state_code station_id  travel_dir  travel_lane  year_record  \\\n",
       "0           S          48     000013           3            0           23   \n",
       "1           S          48     000033           5            0           23   \n",
       "2           S          48     000088           7            0           23   \n",
       "3           S          48     000096           1            0           23   \n",
       "4           S          48     000029           5            0           23   \n",
       "\n",
       "  f_system  num_lanes sample_type_volume  num_lanes_volume  ...  \\\n",
       "0       1R          2                  T                 2  ...   \n",
       "1       3R          1                  T                 1  ...   \n",
       "2       5R          1                  T                 1  ...   \n",
       "3       2R          2                  T                 2  ...   \n",
       "4       3R          1                  T                 1  ...   \n",
       "\n",
       "   year_discontinued county_code  is_sample     sample_id nhs  \\\n",
       "0                  0         223          N                 Y   \n",
       "1                  0         123          N                 Y   \n",
       "2                  0         193          N                 N   \n",
       "3                  0          49          N                 Y   \n",
       "4                  0         323          N                 Y   \n",
       "\n",
       "   posted_route_signing posted_signed_route  con_route_signing  \\\n",
       "0                     1            00000030                  0   \n",
       "1                     2            00000183                  0   \n",
       "2                     8            00000218                  0   \n",
       "3                     2            00000067                  0   \n",
       "4                     2            00000277                  0   \n",
       "\n",
       "   con_signed_route                                   station_location  \n",
       "0                    4.3 MILES WEST OF SH 19, SULPHUR SPRI         ...  \n",
       "1                    1.9 MILES NORTH OF FM 1447, CUERO             ...  \n",
       "2                    1.1 MILES SOUTHWEST OF SH 36, HAMILTO         ...  \n",
       "3                    4.6 MILES NORTHEAST OF US 183, BROWNW         ...  \n",
       "4                    7.1 MILES SOUTH OF SH 131, EAGLE PASS         ...  \n",
       "\n",
       "[5 rows x 41 columns]"
      ]
     },
     "execution_count": 615,
     "metadata": {},
     "output_type": "execute_result"
    }
   ],
   "source": [
    "station_df = get_station_data(\"TX_2023 (TMAS).STA\")\n",
    "station_df.head()"
   ]
  },
  {
   "cell_type": "code",
   "execution_count": 616,
   "id": "b2be1f6f-ecf2-4c72-9fac-1c5914cebe4b",
   "metadata": {
    "scrolled": true
   },
   "outputs": [
    {
     "data": {
      "text/plain": [
       "record_type      object\n",
       "state_code        int64\n",
       "f_system         object\n",
       "station_id       object\n",
       "travel_dir        int64\n",
       "travel_lane       int64\n",
       "year_record       int64\n",
       "month_record      int64\n",
       "day_record        int64\n",
       "day_of_week       int64\n",
       "hour_00           int64\n",
       "hour_01           int64\n",
       "hour_02           int64\n",
       "hour_03           int64\n",
       "hour_04           int64\n",
       "hour_05           int64\n",
       "hour_06           int64\n",
       "hour_07           int64\n",
       "hour_08           int64\n",
       "hour_09           int64\n",
       "hour_10           int64\n",
       "hour_11           int64\n",
       "hour_12           int64\n",
       "hour_13           int64\n",
       "hour_14           int64\n",
       "hour_15           int64\n",
       "hour_16           int64\n",
       "hour_17           int64\n",
       "hour_18           int64\n",
       "hour_19           int64\n",
       "hour_20           int64\n",
       "hour_21           int64\n",
       "hour_22           int64\n",
       "hour_23           int64\n",
       "restrictions    float64\n",
       "dtype: object"
      ]
     },
     "execution_count": 616,
     "metadata": {},
     "output_type": "execute_result"
    }
   ],
   "source": [
    "df.dtypes"
   ]
  },
  {
   "cell_type": "code",
   "execution_count": 617,
   "id": "34c07c0a-a655-4e5a-aa5c-16fb5c66655c",
   "metadata": {
    "scrolled": true
   },
   "outputs": [
    {
     "data": {
      "text/plain": [
       "record_type             object\n",
       "state_code               int64\n",
       "station_id              object\n",
       "travel_dir               int64\n",
       "travel_lane              int64\n",
       "year_record              int64\n",
       "f_system                object\n",
       "num_lanes                int64\n",
       "sample_type_volume      object\n",
       "num_lanes_volume         int64\n",
       "method_volume            int64\n",
       "sample_type_class       object\n",
       "num_lanes_class          int64\n",
       "method_class             int64\n",
       "algorithm_volume        object\n",
       "num_classes              int64\n",
       "sample_type_truck       object\n",
       "num_lanes_truck          int64\n",
       "method_truck             int64\n",
       "calibration             object\n",
       "data_retrieval           int64\n",
       "type_sensor_1           object\n",
       "type_sensor_2           object\n",
       "primary_purpose         object\n",
       "lrs_id                  object\n",
       "lrs_point               object\n",
       "latitude                 int64\n",
       "longitude                int64\n",
       "shrp_id                 object\n",
       "prev_station_id         object\n",
       "year_established         int64\n",
       "year_discontinued        int64\n",
       "county_code              int64\n",
       "is_sample               object\n",
       "sample_id               object\n",
       "nhs                     object\n",
       "posted_route_signing     int64\n",
       "posted_signed_route     object\n",
       "con_route_signing        int64\n",
       "con_signed_route        object\n",
       "station_location        object\n",
       "dtype: object"
      ]
     },
     "execution_count": 617,
     "metadata": {},
     "output_type": "execute_result"
    }
   ],
   "source": [
    "station_df.dtypes"
   ]
  },
  {
   "cell_type": "markdown",
   "id": "8b01564f-18f8-4b9f-981a-2029c47f4d2f",
   "metadata": {},
   "source": [
    "### Right now I am only concerned with the Austin metropolitan area\n",
    "I will filter for the stations with 'Austin' in the address, I plan to add more counties for this analysis later"
   ]
  },
  {
   "cell_type": "code",
   "execution_count": 619,
   "id": "0bc0b942-df58-4623-b458-7e5c5efde112",
   "metadata": {},
   "outputs": [
    {
     "data": {
      "text/plain": [
       "20"
      ]
     },
     "execution_count": 619,
     "metadata": {},
     "output_type": "execute_result"
    }
   ],
   "source": [
    "austin_stations = station_df[station_df[\"station_location\"].str.contains('AUSTIN', case=False, na=False)]\n",
    "len(austin_stations[[\"latitude\",\"longitude\"]])"
   ]
  },
  {
   "cell_type": "code",
   "execution_count": 620,
   "id": "29c6d1ab-dec6-4554-a60a-f767d1018ec1",
   "metadata": {},
   "outputs": [
    {
     "name": "stderr",
     "output_type": "stream",
     "text": [
      "/var/folders/3m/jr7y5tvj0qld31bvfzxkt8440000gn/T/ipykernel_11721/2009449163.py:1: FutureWarning:\n",
      "\n",
      "Setting an item of incompatible dtype is deprecated and will raise in a future error of pandas. Value '[30.137657 30.137657 30.17901  30.135898 30.2518   30.135898 30.324487\n",
      " 30.2518   30.17901  30.22196  30.324487 30.22196  30.174    30.174\n",
      " 30.309123 30.252102 30.252102 30.225142 30.225142 30.309123]' has dtype incompatible with int64, please explicitly cast to a compatible dtype first.\n",
      "\n",
      "/var/folders/3m/jr7y5tvj0qld31bvfzxkt8440000gn/T/ipykernel_11721/2009449163.py:2: FutureWarning:\n",
      "\n",
      "Setting an item of incompatible dtype is deprecated and will raise in a future error of pandas. Value '[-97.797022 -97.797022 -97.688723 -97.797664 -97.7361   -97.797664\n",
      " -97.755456 -97.7361   -97.688723 -97.9559   -97.755456 -97.9559\n",
      " -97.690093 -97.690093 -97.757403 -97.736216 -97.736216 -97.948929\n",
      " -97.948929 -97.757403]' has dtype incompatible with int64, please explicitly cast to a compatible dtype first.\n",
      "\n"
     ]
    }
   ],
   "source": [
    "austin_stations.loc[:, 'latitude'] = austin_stations['latitude'] * 0.000001\n",
    "austin_stations.loc[:, 'longitude'] = austin_stations['longitude'] * -0.000001"
   ]
  },
  {
   "cell_type": "code",
   "execution_count": 621,
   "id": "c8a14ddc-a1a8-4d10-b4e8-9c495e1306c6",
   "metadata": {},
   "outputs": [
    {
     "data": {
      "application/vnd.plotly.v1+json": {
       "config": {
        "plotlyServerURL": "https://plot.ly"
       },
       "data": [
        {
         "hovertemplate": "latitude=%{lat}<br>longitude=%{lon}<extra></extra>",
         "lat": [
          30.137656999999997,
          30.137656999999997,
          30.179009999999998,
          30.135897999999997,
          30.2518,
          30.135897999999997,
          30.324486999999998,
          30.2518,
          30.179009999999998,
          30.22196,
          30.324486999999998,
          30.22196,
          30.174,
          30.174,
          30.309123,
          30.252101999999997,
          30.252101999999997,
          30.225141999999998,
          30.225141999999998,
          30.309123
         ],
         "legendgroup": "",
         "lon": [
          -97.797022,
          -97.797022,
          -97.688723,
          -97.797664,
          -97.7361,
          -97.797664,
          -97.755456,
          -97.7361,
          -97.688723,
          -97.9559,
          -97.755456,
          -97.9559,
          -97.69009299999999,
          -97.69009299999999,
          -97.757403,
          -97.736216,
          -97.736216,
          -97.94892899999999,
          -97.94892899999999,
          -97.757403
         ],
         "marker": {
          "color": "#636efa",
          "size": [
           30.137656999999997,
           30.137656999999997,
           30.179009999999998,
           30.135897999999997,
           30.2518,
           30.135897999999997,
           30.324486999999998,
           30.2518,
           30.179009999999998,
           30.22196,
           30.324486999999998,
           30.22196,
           30.174,
           30.174,
           30.309123,
           30.252101999999997,
           30.252101999999997,
           30.225141999999998,
           30.225141999999998,
           30.309123
          ],
          "sizemode": "area",
          "sizeref": 0.0758112175
         },
         "mode": "markers",
         "name": "",
         "showlegend": false,
         "subplot": "mapbox",
         "type": "scattermapbox"
        }
       ],
       "layout": {
        "autosize": true,
        "dragmode": "pan",
        "legend": {
         "itemsizing": "constant",
         "tracegroupgap": 0
        },
        "mapbox": {
         "center": {
          "lat": 30.221117900000003,
          "lon": -97.78635059999999
         },
         "domain": {
          "x": [
           0,
           1
          ],
          "y": [
           0,
           1
          ]
         },
         "style": "open-street-map",
         "zoom": 10.5
        },
        "margin": {
         "t": 60
        },
        "template": {
         "data": {
          "bar": [
           {
            "error_x": {
             "color": "#2a3f5f"
            },
            "error_y": {
             "color": "#2a3f5f"
            },
            "marker": {
             "line": {
              "color": "#E5ECF6",
              "width": 0.5
             },
             "pattern": {
              "fillmode": "overlay",
              "size": 10,
              "solidity": 0.2
             }
            },
            "type": "bar"
           }
          ],
          "barpolar": [
           {
            "marker": {
             "line": {
              "color": "#E5ECF6",
              "width": 0.5
             },
             "pattern": {
              "fillmode": "overlay",
              "size": 10,
              "solidity": 0.2
             }
            },
            "type": "barpolar"
           }
          ],
          "carpet": [
           {
            "aaxis": {
             "endlinecolor": "#2a3f5f",
             "gridcolor": "white",
             "linecolor": "white",
             "minorgridcolor": "white",
             "startlinecolor": "#2a3f5f"
            },
            "baxis": {
             "endlinecolor": "#2a3f5f",
             "gridcolor": "white",
             "linecolor": "white",
             "minorgridcolor": "white",
             "startlinecolor": "#2a3f5f"
            },
            "type": "carpet"
           }
          ],
          "choropleth": [
           {
            "colorbar": {
             "outlinewidth": 0,
             "ticks": ""
            },
            "type": "choropleth"
           }
          ],
          "contour": [
           {
            "colorbar": {
             "outlinewidth": 0,
             "ticks": ""
            },
            "colorscale": [
             [
              0,
              "#0d0887"
             ],
             [
              0.1111111111111111,
              "#46039f"
             ],
             [
              0.2222222222222222,
              "#7201a8"
             ],
             [
              0.3333333333333333,
              "#9c179e"
             ],
             [
              0.4444444444444444,
              "#bd3786"
             ],
             [
              0.5555555555555556,
              "#d8576b"
             ],
             [
              0.6666666666666666,
              "#ed7953"
             ],
             [
              0.7777777777777778,
              "#fb9f3a"
             ],
             [
              0.8888888888888888,
              "#fdca26"
             ],
             [
              1,
              "#f0f921"
             ]
            ],
            "type": "contour"
           }
          ],
          "contourcarpet": [
           {
            "colorbar": {
             "outlinewidth": 0,
             "ticks": ""
            },
            "type": "contourcarpet"
           }
          ],
          "heatmap": [
           {
            "colorbar": {
             "outlinewidth": 0,
             "ticks": ""
            },
            "colorscale": [
             [
              0,
              "#0d0887"
             ],
             [
              0.1111111111111111,
              "#46039f"
             ],
             [
              0.2222222222222222,
              "#7201a8"
             ],
             [
              0.3333333333333333,
              "#9c179e"
             ],
             [
              0.4444444444444444,
              "#bd3786"
             ],
             [
              0.5555555555555556,
              "#d8576b"
             ],
             [
              0.6666666666666666,
              "#ed7953"
             ],
             [
              0.7777777777777778,
              "#fb9f3a"
             ],
             [
              0.8888888888888888,
              "#fdca26"
             ],
             [
              1,
              "#f0f921"
             ]
            ],
            "type": "heatmap"
           }
          ],
          "heatmapgl": [
           {
            "colorbar": {
             "outlinewidth": 0,
             "ticks": ""
            },
            "colorscale": [
             [
              0,
              "#0d0887"
             ],
             [
              0.1111111111111111,
              "#46039f"
             ],
             [
              0.2222222222222222,
              "#7201a8"
             ],
             [
              0.3333333333333333,
              "#9c179e"
             ],
             [
              0.4444444444444444,
              "#bd3786"
             ],
             [
              0.5555555555555556,
              "#d8576b"
             ],
             [
              0.6666666666666666,
              "#ed7953"
             ],
             [
              0.7777777777777778,
              "#fb9f3a"
             ],
             [
              0.8888888888888888,
              "#fdca26"
             ],
             [
              1,
              "#f0f921"
             ]
            ],
            "type": "heatmapgl"
           }
          ],
          "histogram": [
           {
            "marker": {
             "pattern": {
              "fillmode": "overlay",
              "size": 10,
              "solidity": 0.2
             }
            },
            "type": "histogram"
           }
          ],
          "histogram2d": [
           {
            "colorbar": {
             "outlinewidth": 0,
             "ticks": ""
            },
            "colorscale": [
             [
              0,
              "#0d0887"
             ],
             [
              0.1111111111111111,
              "#46039f"
             ],
             [
              0.2222222222222222,
              "#7201a8"
             ],
             [
              0.3333333333333333,
              "#9c179e"
             ],
             [
              0.4444444444444444,
              "#bd3786"
             ],
             [
              0.5555555555555556,
              "#d8576b"
             ],
             [
              0.6666666666666666,
              "#ed7953"
             ],
             [
              0.7777777777777778,
              "#fb9f3a"
             ],
             [
              0.8888888888888888,
              "#fdca26"
             ],
             [
              1,
              "#f0f921"
             ]
            ],
            "type": "histogram2d"
           }
          ],
          "histogram2dcontour": [
           {
            "colorbar": {
             "outlinewidth": 0,
             "ticks": ""
            },
            "colorscale": [
             [
              0,
              "#0d0887"
             ],
             [
              0.1111111111111111,
              "#46039f"
             ],
             [
              0.2222222222222222,
              "#7201a8"
             ],
             [
              0.3333333333333333,
              "#9c179e"
             ],
             [
              0.4444444444444444,
              "#bd3786"
             ],
             [
              0.5555555555555556,
              "#d8576b"
             ],
             [
              0.6666666666666666,
              "#ed7953"
             ],
             [
              0.7777777777777778,
              "#fb9f3a"
             ],
             [
              0.8888888888888888,
              "#fdca26"
             ],
             [
              1,
              "#f0f921"
             ]
            ],
            "type": "histogram2dcontour"
           }
          ],
          "mesh3d": [
           {
            "colorbar": {
             "outlinewidth": 0,
             "ticks": ""
            },
            "type": "mesh3d"
           }
          ],
          "parcoords": [
           {
            "line": {
             "colorbar": {
              "outlinewidth": 0,
              "ticks": ""
             }
            },
            "type": "parcoords"
           }
          ],
          "pie": [
           {
            "automargin": true,
            "type": "pie"
           }
          ],
          "scatter": [
           {
            "fillpattern": {
             "fillmode": "overlay",
             "size": 10,
             "solidity": 0.2
            },
            "type": "scatter"
           }
          ],
          "scatter3d": [
           {
            "line": {
             "colorbar": {
              "outlinewidth": 0,
              "ticks": ""
             }
            },
            "marker": {
             "colorbar": {
              "outlinewidth": 0,
              "ticks": ""
             }
            },
            "type": "scatter3d"
           }
          ],
          "scattercarpet": [
           {
            "marker": {
             "colorbar": {
              "outlinewidth": 0,
              "ticks": ""
             }
            },
            "type": "scattercarpet"
           }
          ],
          "scattergeo": [
           {
            "marker": {
             "colorbar": {
              "outlinewidth": 0,
              "ticks": ""
             }
            },
            "type": "scattergeo"
           }
          ],
          "scattergl": [
           {
            "marker": {
             "colorbar": {
              "outlinewidth": 0,
              "ticks": ""
             }
            },
            "type": "scattergl"
           }
          ],
          "scattermapbox": [
           {
            "marker": {
             "colorbar": {
              "outlinewidth": 0,
              "ticks": ""
             }
            },
            "type": "scattermapbox"
           }
          ],
          "scatterpolar": [
           {
            "marker": {
             "colorbar": {
              "outlinewidth": 0,
              "ticks": ""
             }
            },
            "type": "scatterpolar"
           }
          ],
          "scatterpolargl": [
           {
            "marker": {
             "colorbar": {
              "outlinewidth": 0,
              "ticks": ""
             }
            },
            "type": "scatterpolargl"
           }
          ],
          "scatterternary": [
           {
            "marker": {
             "colorbar": {
              "outlinewidth": 0,
              "ticks": ""
             }
            },
            "type": "scatterternary"
           }
          ],
          "surface": [
           {
            "colorbar": {
             "outlinewidth": 0,
             "ticks": ""
            },
            "colorscale": [
             [
              0,
              "#0d0887"
             ],
             [
              0.1111111111111111,
              "#46039f"
             ],
             [
              0.2222222222222222,
              "#7201a8"
             ],
             [
              0.3333333333333333,
              "#9c179e"
             ],
             [
              0.4444444444444444,
              "#bd3786"
             ],
             [
              0.5555555555555556,
              "#d8576b"
             ],
             [
              0.6666666666666666,
              "#ed7953"
             ],
             [
              0.7777777777777778,
              "#fb9f3a"
             ],
             [
              0.8888888888888888,
              "#fdca26"
             ],
             [
              1,
              "#f0f921"
             ]
            ],
            "type": "surface"
           }
          ],
          "table": [
           {
            "cells": {
             "fill": {
              "color": "#EBF0F8"
             },
             "line": {
              "color": "white"
             }
            },
            "header": {
             "fill": {
              "color": "#C8D4E3"
             },
             "line": {
              "color": "white"
             }
            },
            "type": "table"
           }
          ]
         },
         "layout": {
          "annotationdefaults": {
           "arrowcolor": "#2a3f5f",
           "arrowhead": 0,
           "arrowwidth": 1
          },
          "autotypenumbers": "strict",
          "coloraxis": {
           "colorbar": {
            "outlinewidth": 0,
            "ticks": ""
           }
          },
          "colorscale": {
           "diverging": [
            [
             0,
             "#8e0152"
            ],
            [
             0.1,
             "#c51b7d"
            ],
            [
             0.2,
             "#de77ae"
            ],
            [
             0.3,
             "#f1b6da"
            ],
            [
             0.4,
             "#fde0ef"
            ],
            [
             0.5,
             "#f7f7f7"
            ],
            [
             0.6,
             "#e6f5d0"
            ],
            [
             0.7,
             "#b8e186"
            ],
            [
             0.8,
             "#7fbc41"
            ],
            [
             0.9,
             "#4d9221"
            ],
            [
             1,
             "#276419"
            ]
           ],
           "sequential": [
            [
             0,
             "#0d0887"
            ],
            [
             0.1111111111111111,
             "#46039f"
            ],
            [
             0.2222222222222222,
             "#7201a8"
            ],
            [
             0.3333333333333333,
             "#9c179e"
            ],
            [
             0.4444444444444444,
             "#bd3786"
            ],
            [
             0.5555555555555556,
             "#d8576b"
            ],
            [
             0.6666666666666666,
             "#ed7953"
            ],
            [
             0.7777777777777778,
             "#fb9f3a"
            ],
            [
             0.8888888888888888,
             "#fdca26"
            ],
            [
             1,
             "#f0f921"
            ]
           ],
           "sequentialminus": [
            [
             0,
             "#0d0887"
            ],
            [
             0.1111111111111111,
             "#46039f"
            ],
            [
             0.2222222222222222,
             "#7201a8"
            ],
            [
             0.3333333333333333,
             "#9c179e"
            ],
            [
             0.4444444444444444,
             "#bd3786"
            ],
            [
             0.5555555555555556,
             "#d8576b"
            ],
            [
             0.6666666666666666,
             "#ed7953"
            ],
            [
             0.7777777777777778,
             "#fb9f3a"
            ],
            [
             0.8888888888888888,
             "#fdca26"
            ],
            [
             1,
             "#f0f921"
            ]
           ]
          },
          "colorway": [
           "#636efa",
           "#EF553B",
           "#00cc96",
           "#ab63fa",
           "#FFA15A",
           "#19d3f3",
           "#FF6692",
           "#B6E880",
           "#FF97FF",
           "#FECB52"
          ],
          "font": {
           "color": "#2a3f5f"
          },
          "geo": {
           "bgcolor": "white",
           "lakecolor": "white",
           "landcolor": "#E5ECF6",
           "showlakes": true,
           "showland": true,
           "subunitcolor": "white"
          },
          "hoverlabel": {
           "align": "left"
          },
          "hovermode": "closest",
          "mapbox": {
           "style": "light"
          },
          "paper_bgcolor": "white",
          "plot_bgcolor": "#E5ECF6",
          "polar": {
           "angularaxis": {
            "gridcolor": "white",
            "linecolor": "white",
            "ticks": ""
           },
           "bgcolor": "#E5ECF6",
           "radialaxis": {
            "gridcolor": "white",
            "linecolor": "white",
            "ticks": ""
           }
          },
          "scene": {
           "xaxis": {
            "backgroundcolor": "#E5ECF6",
            "gridcolor": "white",
            "gridwidth": 2,
            "linecolor": "white",
            "showbackground": true,
            "ticks": "",
            "zerolinecolor": "white"
           },
           "yaxis": {
            "backgroundcolor": "#E5ECF6",
            "gridcolor": "white",
            "gridwidth": 2,
            "linecolor": "white",
            "showbackground": true,
            "ticks": "",
            "zerolinecolor": "white"
           },
           "zaxis": {
            "backgroundcolor": "#E5ECF6",
            "gridcolor": "white",
            "gridwidth": 2,
            "linecolor": "white",
            "showbackground": true,
            "ticks": "",
            "zerolinecolor": "white"
           }
          },
          "shapedefaults": {
           "line": {
            "color": "#2a3f5f"
           }
          },
          "ternary": {
           "aaxis": {
            "gridcolor": "white",
            "linecolor": "white",
            "ticks": ""
           },
           "baxis": {
            "gridcolor": "white",
            "linecolor": "white",
            "ticks": ""
           },
           "bgcolor": "#E5ECF6",
           "caxis": {
            "gridcolor": "white",
            "linecolor": "white",
            "ticks": ""
           }
          },
          "title": {
           "x": 0.05
          },
          "xaxis": {
           "automargin": true,
           "gridcolor": "white",
           "linecolor": "white",
           "ticks": "",
           "title": {
            "standoff": 15
           },
           "zerolinecolor": "white",
           "zerolinewidth": 2
          },
          "yaxis": {
           "automargin": true,
           "gridcolor": "white",
           "linecolor": "white",
           "ticks": "",
           "title": {
            "standoff": 15
           },
           "zerolinecolor": "white",
           "zerolinewidth": 2
          }
         }
        }
       }
      },
      "text/html": [
       "<div>                            <div id=\"ac926237-89fe-40a5-a7d7-74d7599168c8\" class=\"plotly-graph-div\" style=\"height:700px; width:100%;\"></div>            <script type=\"text/javascript\">                require([\"plotly\"], function(Plotly) {                    window.PLOTLYENV=window.PLOTLYENV || {};                                    if (document.getElementById(\"ac926237-89fe-40a5-a7d7-74d7599168c8\")) {                    Plotly.newPlot(                        \"ac926237-89fe-40a5-a7d7-74d7599168c8\",                        [{\"hovertemplate\":\"latitude=%{lat}\\u003cbr\\u003elongitude=%{lon}\\u003cextra\\u003e\\u003c\\u002fextra\\u003e\",\"lat\":[30.137656999999997,30.137656999999997,30.179009999999998,30.135897999999997,30.2518,30.135897999999997,30.324486999999998,30.2518,30.179009999999998,30.22196,30.324486999999998,30.22196,30.174,30.174,30.309123,30.252101999999997,30.252101999999997,30.225141999999998,30.225141999999998,30.309123],\"legendgroup\":\"\",\"lon\":[-97.797022,-97.797022,-97.688723,-97.797664,-97.7361,-97.797664,-97.755456,-97.7361,-97.688723,-97.9559,-97.755456,-97.9559,-97.69009299999999,-97.69009299999999,-97.757403,-97.736216,-97.736216,-97.94892899999999,-97.94892899999999,-97.757403],\"marker\":{\"color\":\"#636efa\",\"size\":[30.137656999999997,30.137656999999997,30.179009999999998,30.135897999999997,30.2518,30.135897999999997,30.324486999999998,30.2518,30.179009999999998,30.22196,30.324486999999998,30.22196,30.174,30.174,30.309123,30.252101999999997,30.252101999999997,30.225141999999998,30.225141999999998,30.309123],\"sizemode\":\"area\",\"sizeref\":0.0758112175},\"mode\":\"markers\",\"name\":\"\",\"showlegend\":false,\"subplot\":\"mapbox\",\"type\":\"scattermapbox\"}],                        {\"template\":{\"data\":{\"histogram2dcontour\":[{\"type\":\"histogram2dcontour\",\"colorbar\":{\"outlinewidth\":0,\"ticks\":\"\"},\"colorscale\":[[0.0,\"#0d0887\"],[0.1111111111111111,\"#46039f\"],[0.2222222222222222,\"#7201a8\"],[0.3333333333333333,\"#9c179e\"],[0.4444444444444444,\"#bd3786\"],[0.5555555555555556,\"#d8576b\"],[0.6666666666666666,\"#ed7953\"],[0.7777777777777778,\"#fb9f3a\"],[0.8888888888888888,\"#fdca26\"],[1.0,\"#f0f921\"]]}],\"choropleth\":[{\"type\":\"choropleth\",\"colorbar\":{\"outlinewidth\":0,\"ticks\":\"\"}}],\"histogram2d\":[{\"type\":\"histogram2d\",\"colorbar\":{\"outlinewidth\":0,\"ticks\":\"\"},\"colorscale\":[[0.0,\"#0d0887\"],[0.1111111111111111,\"#46039f\"],[0.2222222222222222,\"#7201a8\"],[0.3333333333333333,\"#9c179e\"],[0.4444444444444444,\"#bd3786\"],[0.5555555555555556,\"#d8576b\"],[0.6666666666666666,\"#ed7953\"],[0.7777777777777778,\"#fb9f3a\"],[0.8888888888888888,\"#fdca26\"],[1.0,\"#f0f921\"]]}],\"heatmap\":[{\"type\":\"heatmap\",\"colorbar\":{\"outlinewidth\":0,\"ticks\":\"\"},\"colorscale\":[[0.0,\"#0d0887\"],[0.1111111111111111,\"#46039f\"],[0.2222222222222222,\"#7201a8\"],[0.3333333333333333,\"#9c179e\"],[0.4444444444444444,\"#bd3786\"],[0.5555555555555556,\"#d8576b\"],[0.6666666666666666,\"#ed7953\"],[0.7777777777777778,\"#fb9f3a\"],[0.8888888888888888,\"#fdca26\"],[1.0,\"#f0f921\"]]}],\"heatmapgl\":[{\"type\":\"heatmapgl\",\"colorbar\":{\"outlinewidth\":0,\"ticks\":\"\"},\"colorscale\":[[0.0,\"#0d0887\"],[0.1111111111111111,\"#46039f\"],[0.2222222222222222,\"#7201a8\"],[0.3333333333333333,\"#9c179e\"],[0.4444444444444444,\"#bd3786\"],[0.5555555555555556,\"#d8576b\"],[0.6666666666666666,\"#ed7953\"],[0.7777777777777778,\"#fb9f3a\"],[0.8888888888888888,\"#fdca26\"],[1.0,\"#f0f921\"]]}],\"contourcarpet\":[{\"type\":\"contourcarpet\",\"colorbar\":{\"outlinewidth\":0,\"ticks\":\"\"}}],\"contour\":[{\"type\":\"contour\",\"colorbar\":{\"outlinewidth\":0,\"ticks\":\"\"},\"colorscale\":[[0.0,\"#0d0887\"],[0.1111111111111111,\"#46039f\"],[0.2222222222222222,\"#7201a8\"],[0.3333333333333333,\"#9c179e\"],[0.4444444444444444,\"#bd3786\"],[0.5555555555555556,\"#d8576b\"],[0.6666666666666666,\"#ed7953\"],[0.7777777777777778,\"#fb9f3a\"],[0.8888888888888888,\"#fdca26\"],[1.0,\"#f0f921\"]]}],\"surface\":[{\"type\":\"surface\",\"colorbar\":{\"outlinewidth\":0,\"ticks\":\"\"},\"colorscale\":[[0.0,\"#0d0887\"],[0.1111111111111111,\"#46039f\"],[0.2222222222222222,\"#7201a8\"],[0.3333333333333333,\"#9c179e\"],[0.4444444444444444,\"#bd3786\"],[0.5555555555555556,\"#d8576b\"],[0.6666666666666666,\"#ed7953\"],[0.7777777777777778,\"#fb9f3a\"],[0.8888888888888888,\"#fdca26\"],[1.0,\"#f0f921\"]]}],\"mesh3d\":[{\"type\":\"mesh3d\",\"colorbar\":{\"outlinewidth\":0,\"ticks\":\"\"}}],\"scatter\":[{\"fillpattern\":{\"fillmode\":\"overlay\",\"size\":10,\"solidity\":0.2},\"type\":\"scatter\"}],\"parcoords\":[{\"type\":\"parcoords\",\"line\":{\"colorbar\":{\"outlinewidth\":0,\"ticks\":\"\"}}}],\"scatterpolargl\":[{\"type\":\"scatterpolargl\",\"marker\":{\"colorbar\":{\"outlinewidth\":0,\"ticks\":\"\"}}}],\"bar\":[{\"error_x\":{\"color\":\"#2a3f5f\"},\"error_y\":{\"color\":\"#2a3f5f\"},\"marker\":{\"line\":{\"color\":\"#E5ECF6\",\"width\":0.5},\"pattern\":{\"fillmode\":\"overlay\",\"size\":10,\"solidity\":0.2}},\"type\":\"bar\"}],\"scattergeo\":[{\"type\":\"scattergeo\",\"marker\":{\"colorbar\":{\"outlinewidth\":0,\"ticks\":\"\"}}}],\"scatterpolar\":[{\"type\":\"scatterpolar\",\"marker\":{\"colorbar\":{\"outlinewidth\":0,\"ticks\":\"\"}}}],\"histogram\":[{\"marker\":{\"pattern\":{\"fillmode\":\"overlay\",\"size\":10,\"solidity\":0.2}},\"type\":\"histogram\"}],\"scattergl\":[{\"type\":\"scattergl\",\"marker\":{\"colorbar\":{\"outlinewidth\":0,\"ticks\":\"\"}}}],\"scatter3d\":[{\"type\":\"scatter3d\",\"line\":{\"colorbar\":{\"outlinewidth\":0,\"ticks\":\"\"}},\"marker\":{\"colorbar\":{\"outlinewidth\":0,\"ticks\":\"\"}}}],\"scattermapbox\":[{\"type\":\"scattermapbox\",\"marker\":{\"colorbar\":{\"outlinewidth\":0,\"ticks\":\"\"}}}],\"scatterternary\":[{\"type\":\"scatterternary\",\"marker\":{\"colorbar\":{\"outlinewidth\":0,\"ticks\":\"\"}}}],\"scattercarpet\":[{\"type\":\"scattercarpet\",\"marker\":{\"colorbar\":{\"outlinewidth\":0,\"ticks\":\"\"}}}],\"carpet\":[{\"aaxis\":{\"endlinecolor\":\"#2a3f5f\",\"gridcolor\":\"white\",\"linecolor\":\"white\",\"minorgridcolor\":\"white\",\"startlinecolor\":\"#2a3f5f\"},\"baxis\":{\"endlinecolor\":\"#2a3f5f\",\"gridcolor\":\"white\",\"linecolor\":\"white\",\"minorgridcolor\":\"white\",\"startlinecolor\":\"#2a3f5f\"},\"type\":\"carpet\"}],\"table\":[{\"cells\":{\"fill\":{\"color\":\"#EBF0F8\"},\"line\":{\"color\":\"white\"}},\"header\":{\"fill\":{\"color\":\"#C8D4E3\"},\"line\":{\"color\":\"white\"}},\"type\":\"table\"}],\"barpolar\":[{\"marker\":{\"line\":{\"color\":\"#E5ECF6\",\"width\":0.5},\"pattern\":{\"fillmode\":\"overlay\",\"size\":10,\"solidity\":0.2}},\"type\":\"barpolar\"}],\"pie\":[{\"automargin\":true,\"type\":\"pie\"}]},\"layout\":{\"autotypenumbers\":\"strict\",\"colorway\":[\"#636efa\",\"#EF553B\",\"#00cc96\",\"#ab63fa\",\"#FFA15A\",\"#19d3f3\",\"#FF6692\",\"#B6E880\",\"#FF97FF\",\"#FECB52\"],\"font\":{\"color\":\"#2a3f5f\"},\"hovermode\":\"closest\",\"hoverlabel\":{\"align\":\"left\"},\"paper_bgcolor\":\"white\",\"plot_bgcolor\":\"#E5ECF6\",\"polar\":{\"bgcolor\":\"#E5ECF6\",\"angularaxis\":{\"gridcolor\":\"white\",\"linecolor\":\"white\",\"ticks\":\"\"},\"radialaxis\":{\"gridcolor\":\"white\",\"linecolor\":\"white\",\"ticks\":\"\"}},\"ternary\":{\"bgcolor\":\"#E5ECF6\",\"aaxis\":{\"gridcolor\":\"white\",\"linecolor\":\"white\",\"ticks\":\"\"},\"baxis\":{\"gridcolor\":\"white\",\"linecolor\":\"white\",\"ticks\":\"\"},\"caxis\":{\"gridcolor\":\"white\",\"linecolor\":\"white\",\"ticks\":\"\"}},\"coloraxis\":{\"colorbar\":{\"outlinewidth\":0,\"ticks\":\"\"}},\"colorscale\":{\"sequential\":[[0.0,\"#0d0887\"],[0.1111111111111111,\"#46039f\"],[0.2222222222222222,\"#7201a8\"],[0.3333333333333333,\"#9c179e\"],[0.4444444444444444,\"#bd3786\"],[0.5555555555555556,\"#d8576b\"],[0.6666666666666666,\"#ed7953\"],[0.7777777777777778,\"#fb9f3a\"],[0.8888888888888888,\"#fdca26\"],[1.0,\"#f0f921\"]],\"sequentialminus\":[[0.0,\"#0d0887\"],[0.1111111111111111,\"#46039f\"],[0.2222222222222222,\"#7201a8\"],[0.3333333333333333,\"#9c179e\"],[0.4444444444444444,\"#bd3786\"],[0.5555555555555556,\"#d8576b\"],[0.6666666666666666,\"#ed7953\"],[0.7777777777777778,\"#fb9f3a\"],[0.8888888888888888,\"#fdca26\"],[1.0,\"#f0f921\"]],\"diverging\":[[0,\"#8e0152\"],[0.1,\"#c51b7d\"],[0.2,\"#de77ae\"],[0.3,\"#f1b6da\"],[0.4,\"#fde0ef\"],[0.5,\"#f7f7f7\"],[0.6,\"#e6f5d0\"],[0.7,\"#b8e186\"],[0.8,\"#7fbc41\"],[0.9,\"#4d9221\"],[1,\"#276419\"]]},\"xaxis\":{\"gridcolor\":\"white\",\"linecolor\":\"white\",\"ticks\":\"\",\"title\":{\"standoff\":15},\"zerolinecolor\":\"white\",\"automargin\":true,\"zerolinewidth\":2},\"yaxis\":{\"gridcolor\":\"white\",\"linecolor\":\"white\",\"ticks\":\"\",\"title\":{\"standoff\":15},\"zerolinecolor\":\"white\",\"automargin\":true,\"zerolinewidth\":2},\"scene\":{\"xaxis\":{\"backgroundcolor\":\"#E5ECF6\",\"gridcolor\":\"white\",\"linecolor\":\"white\",\"showbackground\":true,\"ticks\":\"\",\"zerolinecolor\":\"white\",\"gridwidth\":2},\"yaxis\":{\"backgroundcolor\":\"#E5ECF6\",\"gridcolor\":\"white\",\"linecolor\":\"white\",\"showbackground\":true,\"ticks\":\"\",\"zerolinecolor\":\"white\",\"gridwidth\":2},\"zaxis\":{\"backgroundcolor\":\"#E5ECF6\",\"gridcolor\":\"white\",\"linecolor\":\"white\",\"showbackground\":true,\"ticks\":\"\",\"zerolinecolor\":\"white\",\"gridwidth\":2}},\"shapedefaults\":{\"line\":{\"color\":\"#2a3f5f\"}},\"annotationdefaults\":{\"arrowcolor\":\"#2a3f5f\",\"arrowhead\":0,\"arrowwidth\":1},\"geo\":{\"bgcolor\":\"white\",\"landcolor\":\"#E5ECF6\",\"subunitcolor\":\"white\",\"showland\":true,\"showlakes\":true,\"lakecolor\":\"white\"},\"title\":{\"x\":0.05},\"mapbox\":{\"style\":\"light\"}}},\"mapbox\":{\"domain\":{\"x\":[0.0,1.0],\"y\":[0.0,1.0]},\"center\":{\"lat\":30.221117900000003,\"lon\":-97.78635059999999},\"zoom\":10.5,\"style\":\"open-street-map\"},\"legend\":{\"tracegroupgap\":0,\"itemsizing\":\"constant\"},\"margin\":{\"t\":60},\"height\":700},                        {\"responsive\": true}                    ).then(function(){\n",
       "                            \n",
       "var gd = document.getElementById('ac926237-89fe-40a5-a7d7-74d7599168c8');\n",
       "var x = new MutationObserver(function (mutations, observer) {{\n",
       "        var display = window.getComputedStyle(gd).display;\n",
       "        if (!display || display === 'none') {{\n",
       "            console.log([gd, 'removed!']);\n",
       "            Plotly.purge(gd);\n",
       "            observer.disconnect();\n",
       "        }}\n",
       "}});\n",
       "\n",
       "// Listen for the removal of the full notebook cells\n",
       "var notebookContainer = gd.closest('#notebook-container');\n",
       "if (notebookContainer) {{\n",
       "    x.observe(notebookContainer, {childList: true});\n",
       "}}\n",
       "\n",
       "// Listen for the clearing of the current output cell\n",
       "var outputEl = gd.closest('.output');\n",
       "if (outputEl) {{\n",
       "    x.observe(outputEl, {childList: true});\n",
       "}}\n",
       "\n",
       "                        })                };                });            </script>        </div>"
      ]
     },
     "metadata": {},
     "output_type": "display_data"
    }
   ],
   "source": [
    "px.scatter_mapbox(\n",
    "    austin_stations,\n",
    "    lat='latitude', \n",
    "    lon='longitude',\n",
    "    size_max=20,\n",
    "    size='latitude',\n",
    "    zoom=10.5,\n",
    "    height=700,\n",
    "    mapbox_style=\"open-street-map\"\n",
    ")"
   ]
  },
  {
   "cell_type": "code",
   "execution_count": 622,
   "id": "ab2e83fa-5b31-410d-919b-4c663e611c1e",
   "metadata": {},
   "outputs": [
    {
     "data": {
      "text/plain": [
       "8"
      ]
     },
     "execution_count": 622,
     "metadata": {},
     "output_type": "execute_result"
    }
   ],
   "source": [
    "austin_df = df[df[\"station_id\"].isin(austin_stations[\"station_id\"])]\n",
    "len(austin_df[\"station_id\"].unique())"
   ]
  },
  {
   "cell_type": "code",
   "execution_count": 623,
   "id": "aea94795-998b-404f-89b2-6818f2aa1929",
   "metadata": {},
   "outputs": [
    {
     "data": {
      "text/plain": [
       "Index(['record_type', 'state_code', 'f_system', 'station_id', 'travel_dir',\n",
       "       'travel_lane', 'year_record', 'month_record', 'day_record',\n",
       "       'day_of_week', 'hour_00', 'hour_01', 'hour_02', 'hour_03', 'hour_04',\n",
       "       'hour_05', 'hour_06', 'hour_07', 'hour_08', 'hour_09', 'hour_10',\n",
       "       'hour_11', 'hour_12', 'hour_13', 'hour_14', 'hour_15', 'hour_16',\n",
       "       'hour_17', 'hour_18', 'hour_19', 'hour_20', 'hour_21', 'hour_22',\n",
       "       'hour_23', 'restrictions'],\n",
       "      dtype='object')"
      ]
     },
     "execution_count": 623,
     "metadata": {},
     "output_type": "execute_result"
    }
   ],
   "source": [
    "austin_df.columns"
   ]
  },
  {
   "cell_type": "code",
   "execution_count": 624,
   "id": "9c557adb-a8ec-41c5-b3d0-b414ede6ed2b",
   "metadata": {},
   "outputs": [
    {
     "name": "stderr",
     "output_type": "stream",
     "text": [
      "/var/folders/3m/jr7y5tvj0qld31bvfzxkt8440000gn/T/ipykernel_11721/3636792343.py:1: SettingWithCopyWarning:\n",
      "\n",
      "\n",
      "A value is trying to be set on a copy of a slice from a DataFrame.\n",
      "Try using .loc[row_indexer,col_indexer] = value instead\n",
      "\n",
      "See the caveats in the documentation: https://pandas.pydata.org/pandas-docs/stable/user_guide/indexing.html#returning-a-view-versus-a-copy\n",
      "\n"
     ]
    }
   ],
   "source": [
    "austin_df['total_sum'] = austin_df.iloc[:, 10:34].sum(axis=1)"
   ]
  },
  {
   "cell_type": "code",
   "execution_count": 625,
   "id": "51933507-8d31-4b24-983e-042f374c9ff4",
   "metadata": {},
   "outputs": [
    {
     "data": {
      "text/html": [
       "<div>\n",
       "<style scoped>\n",
       "    .dataframe tbody tr th:only-of-type {\n",
       "        vertical-align: middle;\n",
       "    }\n",
       "\n",
       "    .dataframe tbody tr th {\n",
       "        vertical-align: top;\n",
       "    }\n",
       "\n",
       "    .dataframe thead th {\n",
       "        text-align: right;\n",
       "    }\n",
       "</style>\n",
       "<table border=\"1\" class=\"dataframe\">\n",
       "  <thead>\n",
       "    <tr style=\"text-align: right;\">\n",
       "      <th></th>\n",
       "      <th>record_type</th>\n",
       "      <th>state_code</th>\n",
       "      <th>f_system</th>\n",
       "      <th>station_id</th>\n",
       "      <th>travel_dir</th>\n",
       "      <th>travel_lane</th>\n",
       "      <th>year_record</th>\n",
       "      <th>month_record</th>\n",
       "      <th>day_record</th>\n",
       "      <th>day_of_week</th>\n",
       "      <th>...</th>\n",
       "      <th>hour_16</th>\n",
       "      <th>hour_17</th>\n",
       "      <th>hour_18</th>\n",
       "      <th>hour_19</th>\n",
       "      <th>hour_20</th>\n",
       "      <th>hour_21</th>\n",
       "      <th>hour_22</th>\n",
       "      <th>hour_23</th>\n",
       "      <th>restrictions</th>\n",
       "      <th>total_sum</th>\n",
       "    </tr>\n",
       "  </thead>\n",
       "  <tbody>\n",
       "    <tr>\n",
       "      <th>0</th>\n",
       "      <td>V</td>\n",
       "      <td>48</td>\n",
       "      <td>1U</td>\n",
       "      <td>000004</td>\n",
       "      <td>1</td>\n",
       "      <td>0</td>\n",
       "      <td>2023</td>\n",
       "      <td>1</td>\n",
       "      <td>1</td>\n",
       "      <td>1</td>\n",
       "      <td>...</td>\n",
       "      <td>4821</td>\n",
       "      <td>4311</td>\n",
       "      <td>4200</td>\n",
       "      <td>3564</td>\n",
       "      <td>2839</td>\n",
       "      <td>2556</td>\n",
       "      <td>1968</td>\n",
       "      <td>1387</td>\n",
       "      <td>NaN</td>\n",
       "      <td>64844</td>\n",
       "    </tr>\n",
       "    <tr>\n",
       "      <th>1</th>\n",
       "      <td>V</td>\n",
       "      <td>48</td>\n",
       "      <td>1U</td>\n",
       "      <td>000004</td>\n",
       "      <td>1</td>\n",
       "      <td>0</td>\n",
       "      <td>2023</td>\n",
       "      <td>1</td>\n",
       "      <td>2</td>\n",
       "      <td>2</td>\n",
       "      <td>...</td>\n",
       "      <td>4756</td>\n",
       "      <td>4311</td>\n",
       "      <td>4078</td>\n",
       "      <td>2757</td>\n",
       "      <td>2862</td>\n",
       "      <td>2483</td>\n",
       "      <td>1924</td>\n",
       "      <td>1374</td>\n",
       "      <td>NaN</td>\n",
       "      <td>68223</td>\n",
       "    </tr>\n",
       "    <tr>\n",
       "      <th>2</th>\n",
       "      <td>V</td>\n",
       "      <td>48</td>\n",
       "      <td>1U</td>\n",
       "      <td>000004</td>\n",
       "      <td>1</td>\n",
       "      <td>0</td>\n",
       "      <td>2023</td>\n",
       "      <td>1</td>\n",
       "      <td>3</td>\n",
       "      <td>3</td>\n",
       "      <td>...</td>\n",
       "      <td>4021</td>\n",
       "      <td>4295</td>\n",
       "      <td>3891</td>\n",
       "      <td>3129</td>\n",
       "      <td>2524</td>\n",
       "      <td>2177</td>\n",
       "      <td>1735</td>\n",
       "      <td>1323</td>\n",
       "      <td>NaN</td>\n",
       "      <td>76105</td>\n",
       "    </tr>\n",
       "    <tr>\n",
       "      <th>3</th>\n",
       "      <td>V</td>\n",
       "      <td>48</td>\n",
       "      <td>1U</td>\n",
       "      <td>000004</td>\n",
       "      <td>1</td>\n",
       "      <td>0</td>\n",
       "      <td>2023</td>\n",
       "      <td>1</td>\n",
       "      <td>4</td>\n",
       "      <td>4</td>\n",
       "      <td>...</td>\n",
       "      <td>3821</td>\n",
       "      <td>4182</td>\n",
       "      <td>3753</td>\n",
       "      <td>3210</td>\n",
       "      <td>2401</td>\n",
       "      <td>1956</td>\n",
       "      <td>1563</td>\n",
       "      <td>1127</td>\n",
       "      <td>NaN</td>\n",
       "      <td>73565</td>\n",
       "    </tr>\n",
       "    <tr>\n",
       "      <th>4</th>\n",
       "      <td>V</td>\n",
       "      <td>48</td>\n",
       "      <td>1U</td>\n",
       "      <td>000004</td>\n",
       "      <td>1</td>\n",
       "      <td>0</td>\n",
       "      <td>2023</td>\n",
       "      <td>1</td>\n",
       "      <td>5</td>\n",
       "      <td>5</td>\n",
       "      <td>...</td>\n",
       "      <td>4049</td>\n",
       "      <td>4274</td>\n",
       "      <td>3871</td>\n",
       "      <td>3101</td>\n",
       "      <td>2513</td>\n",
       "      <td>1971</td>\n",
       "      <td>1668</td>\n",
       "      <td>1191</td>\n",
       "      <td>NaN</td>\n",
       "      <td>73494</td>\n",
       "    </tr>\n",
       "    <tr>\n",
       "      <th>...</th>\n",
       "      <td>...</td>\n",
       "      <td>...</td>\n",
       "      <td>...</td>\n",
       "      <td>...</td>\n",
       "      <td>...</td>\n",
       "      <td>...</td>\n",
       "      <td>...</td>\n",
       "      <td>...</td>\n",
       "      <td>...</td>\n",
       "      <td>...</td>\n",
       "      <td>...</td>\n",
       "      <td>...</td>\n",
       "      <td>...</td>\n",
       "      <td>...</td>\n",
       "      <td>...</td>\n",
       "      <td>...</td>\n",
       "      <td>...</td>\n",
       "      <td>...</td>\n",
       "      <td>...</td>\n",
       "      <td>...</td>\n",
       "      <td>...</td>\n",
       "    </tr>\n",
       "    <tr>\n",
       "      <th>18660</th>\n",
       "      <td>V</td>\n",
       "      <td>48</td>\n",
       "      <td>3U</td>\n",
       "      <td>00S216</td>\n",
       "      <td>7</td>\n",
       "      <td>0</td>\n",
       "      <td>2023</td>\n",
       "      <td>1</td>\n",
       "      <td>27</td>\n",
       "      <td>6</td>\n",
       "      <td>...</td>\n",
       "      <td>1459</td>\n",
       "      <td>1379</td>\n",
       "      <td>1249</td>\n",
       "      <td>906</td>\n",
       "      <td>681</td>\n",
       "      <td>540</td>\n",
       "      <td>391</td>\n",
       "      <td>215</td>\n",
       "      <td>NaN</td>\n",
       "      <td>18199</td>\n",
       "    </tr>\n",
       "    <tr>\n",
       "      <th>18661</th>\n",
       "      <td>V</td>\n",
       "      <td>48</td>\n",
       "      <td>3U</td>\n",
       "      <td>00S216</td>\n",
       "      <td>7</td>\n",
       "      <td>0</td>\n",
       "      <td>2023</td>\n",
       "      <td>1</td>\n",
       "      <td>28</td>\n",
       "      <td>7</td>\n",
       "      <td>...</td>\n",
       "      <td>1105</td>\n",
       "      <td>1016</td>\n",
       "      <td>828</td>\n",
       "      <td>700</td>\n",
       "      <td>558</td>\n",
       "      <td>417</td>\n",
       "      <td>340</td>\n",
       "      <td>221</td>\n",
       "      <td>NaN</td>\n",
       "      <td>15241</td>\n",
       "    </tr>\n",
       "    <tr>\n",
       "      <th>18662</th>\n",
       "      <td>V</td>\n",
       "      <td>48</td>\n",
       "      <td>3U</td>\n",
       "      <td>00S216</td>\n",
       "      <td>7</td>\n",
       "      <td>0</td>\n",
       "      <td>2023</td>\n",
       "      <td>1</td>\n",
       "      <td>29</td>\n",
       "      <td>1</td>\n",
       "      <td>...</td>\n",
       "      <td>913</td>\n",
       "      <td>839</td>\n",
       "      <td>684</td>\n",
       "      <td>574</td>\n",
       "      <td>403</td>\n",
       "      <td>308</td>\n",
       "      <td>192</td>\n",
       "      <td>114</td>\n",
       "      <td>NaN</td>\n",
       "      <td>11705</td>\n",
       "    </tr>\n",
       "    <tr>\n",
       "      <th>18663</th>\n",
       "      <td>V</td>\n",
       "      <td>48</td>\n",
       "      <td>3U</td>\n",
       "      <td>00S216</td>\n",
       "      <td>7</td>\n",
       "      <td>0</td>\n",
       "      <td>2023</td>\n",
       "      <td>1</td>\n",
       "      <td>30</td>\n",
       "      <td>2</td>\n",
       "      <td>...</td>\n",
       "      <td>1246</td>\n",
       "      <td>1102</td>\n",
       "      <td>627</td>\n",
       "      <td>424</td>\n",
       "      <td>267</td>\n",
       "      <td>175</td>\n",
       "      <td>116</td>\n",
       "      <td>132</td>\n",
       "      <td>NaN</td>\n",
       "      <td>14255</td>\n",
       "    </tr>\n",
       "    <tr>\n",
       "      <th>18664</th>\n",
       "      <td>V</td>\n",
       "      <td>48</td>\n",
       "      <td>3U</td>\n",
       "      <td>00S216</td>\n",
       "      <td>7</td>\n",
       "      <td>0</td>\n",
       "      <td>2023</td>\n",
       "      <td>1</td>\n",
       "      <td>31</td>\n",
       "      <td>3</td>\n",
       "      <td>...</td>\n",
       "      <td>286</td>\n",
       "      <td>249</td>\n",
       "      <td>168</td>\n",
       "      <td>120</td>\n",
       "      <td>85</td>\n",
       "      <td>60</td>\n",
       "      <td>40</td>\n",
       "      <td>31</td>\n",
       "      <td>NaN</td>\n",
       "      <td>3467</td>\n",
       "    </tr>\n",
       "  </tbody>\n",
       "</table>\n",
       "<p>484 rows × 36 columns</p>\n",
       "</div>"
      ],
      "text/plain": [
       "      record_type  state_code f_system station_id  travel_dir  travel_lane  \\\n",
       "0               V          48       1U     000004           1            0   \n",
       "1               V          48       1U     000004           1            0   \n",
       "2               V          48       1U     000004           1            0   \n",
       "3               V          48       1U     000004           1            0   \n",
       "4               V          48       1U     000004           1            0   \n",
       "...           ...         ...      ...        ...         ...          ...   \n",
       "18660           V          48       3U     00S216           7            0   \n",
       "18661           V          48       3U     00S216           7            0   \n",
       "18662           V          48       3U     00S216           7            0   \n",
       "18663           V          48       3U     00S216           7            0   \n",
       "18664           V          48       3U     00S216           7            0   \n",
       "\n",
       "       year_record  month_record  day_record  day_of_week  ...  hour_16  \\\n",
       "0             2023             1           1            1  ...     4821   \n",
       "1             2023             1           2            2  ...     4756   \n",
       "2             2023             1           3            3  ...     4021   \n",
       "3             2023             1           4            4  ...     3821   \n",
       "4             2023             1           5            5  ...     4049   \n",
       "...            ...           ...         ...          ...  ...      ...   \n",
       "18660         2023             1          27            6  ...     1459   \n",
       "18661         2023             1          28            7  ...     1105   \n",
       "18662         2023             1          29            1  ...      913   \n",
       "18663         2023             1          30            2  ...     1246   \n",
       "18664         2023             1          31            3  ...      286   \n",
       "\n",
       "       hour_17  hour_18  hour_19  hour_20  hour_21  hour_22  hour_23  \\\n",
       "0         4311     4200     3564     2839     2556     1968     1387   \n",
       "1         4311     4078     2757     2862     2483     1924     1374   \n",
       "2         4295     3891     3129     2524     2177     1735     1323   \n",
       "3         4182     3753     3210     2401     1956     1563     1127   \n",
       "4         4274     3871     3101     2513     1971     1668     1191   \n",
       "...        ...      ...      ...      ...      ...      ...      ...   \n",
       "18660     1379     1249      906      681      540      391      215   \n",
       "18661     1016      828      700      558      417      340      221   \n",
       "18662      839      684      574      403      308      192      114   \n",
       "18663     1102      627      424      267      175      116      132   \n",
       "18664      249      168      120       85       60       40       31   \n",
       "\n",
       "       restrictions  total_sum  \n",
       "0               NaN      64844  \n",
       "1               NaN      68223  \n",
       "2               NaN      76105  \n",
       "3               NaN      73565  \n",
       "4               NaN      73494  \n",
       "...             ...        ...  \n",
       "18660           NaN      18199  \n",
       "18661           NaN      15241  \n",
       "18662           NaN      11705  \n",
       "18663           NaN      14255  \n",
       "18664           NaN       3467  \n",
       "\n",
       "[484 rows x 36 columns]"
      ]
     },
     "execution_count": 625,
     "metadata": {},
     "output_type": "execute_result"
    }
   ],
   "source": [
    "austin_df"
   ]
  },
  {
   "cell_type": "markdown",
   "id": "5847c882-3301-4403-8478-5b84241cc33e",
   "metadata": {},
   "source": [
    "# Basic Visualizations"
   ]
  },
  {
   "cell_type": "code",
   "execution_count": 842,
   "id": "0604af20-b93b-48cc-86df-a1a48fbc884e",
   "metadata": {},
   "outputs": [
    {
     "data": {
      "image/png": "[encoded data removed]",
      "text/plain": [
       "<Figure size 640x480 with 1 Axes>"
      ]
     },
     "metadata": {},
     "output_type": "display_data"
    }
   ],
   "source": [
    "traffic_volumes_by_date = austin_df.groupby('day_record')['total_sum'].sum()\n",
    "fig, ax = plt.subplots()\n",
    "\n",
    "ax.bar(\n",
    "    x=traffic_volumes_by_date.index,\n",
    "    height=traffic_volumes_by_date.values\n",
    ") \n",
    "\n",
    "ax.set_ylabel('Traffic Volume')\n",
    "ax.set_title('Traffic Volume by Date')\n",
    "ax.set_xlabel('Date')\n",
    "\n",
    "label_list = range(1, 31, 7)\n",
    "date_list = [f\"Jan {num}\" for num in label_list]\n",
    "\n",
    "plt.xticks(label_list, date_list)\n",
    "plt.ylim(200000, 1250000)\n",
    "\n",
    "plt.show()"
   ]
  },
  {
   "cell_type": "code",
   "execution_count": 840,
   "id": "3d1df973-fc9b-4e1a-aef8-f60c463d2b98",
   "metadata": {},
   "outputs": [
    {
     "data": {
      "image/png": "[encoded data removed]",
      "text/plain": [
       "<Figure size 640x480 with 1 Axes>"
      ]
     },
     "metadata": {},
     "output_type": "display_data"
    }
   ],
   "source": [
    "traffic_volumes_by_dow_groupby = austin_df.groupby('day_of_week')['total_sum']\n",
    "dow_mapping = {\n",
    "    1: \"Sunday\",\n",
    "    2: \"Monday\",\n",
    "    3: \"Tuesday\",\n",
    "    4: \"Wednesday\",\n",
    "    5: \"Thursday\",\n",
    "    6: \"Friday\",\n",
    "    7: \"Saturday\"\n",
    "}\n",
    "\n",
    "fig, ax = plt.subplots()\n",
    "ax.bar(\n",
    "    x=traffic_volumes_by_dow_groupby.sum().index,\n",
    "    height=traffic_volumes_by_dow_groupby.sum().values\n",
    ") \n",
    "\n",
    "ax.set_ylabel('Total Traffic Volume')\n",
    "ax.set_title('Traffic Volume Sum by Day of Week')\n",
    "ax.tick_params(axis='x', rotation=45)\n",
    "plt.xticks(list(dow_mapping.keys()), list(dow_mapping.values()))\n",
    "plt.ylim(3000000, 5000000)\n",
    "\n",
    "plt.show()"
   ]
  },
  {
   "cell_type": "code",
   "execution_count": 844,
   "id": "891dc931-b467-4e72-a825-82cf4760fd27",
   "metadata": {},
   "outputs": [
    {
     "data": {
      "text/html": [
       "<div>\n",
       "<style scoped>\n",
       "    .dataframe tbody tr th:only-of-type {\n",
       "        vertical-align: middle;\n",
       "    }\n",
       "\n",
       "    .dataframe tbody tr th {\n",
       "        vertical-align: top;\n",
       "    }\n",
       "\n",
       "    .dataframe thead th {\n",
       "        text-align: right;\n",
       "    }\n",
       "</style>\n",
       "<table border=\"1\" class=\"dataframe\">\n",
       "  <thead>\n",
       "    <tr style=\"text-align: right;\">\n",
       "      <th></th>\n",
       "      <th>day_record</th>\n",
       "      <th>day_of_week</th>\n",
       "      <th>hour_00</th>\n",
       "      <th>hour_01</th>\n",
       "      <th>hour_02</th>\n",
       "      <th>hour_03</th>\n",
       "      <th>hour_04</th>\n",
       "      <th>hour_05</th>\n",
       "      <th>hour_06</th>\n",
       "      <th>hour_07</th>\n",
       "      <th>...</th>\n",
       "      <th>hour_16</th>\n",
       "      <th>hour_17</th>\n",
       "      <th>hour_18</th>\n",
       "      <th>hour_19</th>\n",
       "      <th>hour_20</th>\n",
       "      <th>hour_21</th>\n",
       "      <th>hour_22</th>\n",
       "      <th>hour_23</th>\n",
       "      <th>total_sum</th>\n",
       "      <th>week_no</th>\n",
       "    </tr>\n",
       "  </thead>\n",
       "  <tbody>\n",
       "    <tr>\n",
       "      <th>0</th>\n",
       "      <td>1</td>\n",
       "      <td>1</td>\n",
       "      <td>29292</td>\n",
       "      <td>32224</td>\n",
       "      <td>24494</td>\n",
       "      <td>16122</td>\n",
       "      <td>9594</td>\n",
       "      <td>8856</td>\n",
       "      <td>9672</td>\n",
       "      <td>12078</td>\n",
       "      <td>...</td>\n",
       "      <td>57452</td>\n",
       "      <td>54128</td>\n",
       "      <td>51896</td>\n",
       "      <td>43528</td>\n",
       "      <td>35248</td>\n",
       "      <td>30038</td>\n",
       "      <td>24316</td>\n",
       "      <td>17086</td>\n",
       "      <td>820704</td>\n",
       "      <td>1</td>\n",
       "    </tr>\n",
       "    <tr>\n",
       "      <th>1</th>\n",
       "      <td>2</td>\n",
       "      <td>2</td>\n",
       "      <td>11672</td>\n",
       "      <td>7836</td>\n",
       "      <td>7164</td>\n",
       "      <td>5734</td>\n",
       "      <td>6976</td>\n",
       "      <td>13554</td>\n",
       "      <td>23006</td>\n",
       "      <td>30946</td>\n",
       "      <td>...</td>\n",
       "      <td>61128</td>\n",
       "      <td>55648</td>\n",
       "      <td>52482</td>\n",
       "      <td>43172</td>\n",
       "      <td>35534</td>\n",
       "      <td>30252</td>\n",
       "      <td>23838</td>\n",
       "      <td>16318</td>\n",
       "      <td>854530</td>\n",
       "      <td>1</td>\n",
       "    </tr>\n",
       "    <tr>\n",
       "      <th>2</th>\n",
       "      <td>3</td>\n",
       "      <td>3</td>\n",
       "      <td>11590</td>\n",
       "      <td>7902</td>\n",
       "      <td>7600</td>\n",
       "      <td>6982</td>\n",
       "      <td>11016</td>\n",
       "      <td>28580</td>\n",
       "      <td>48296</td>\n",
       "      <td>58450</td>\n",
       "      <td>...</td>\n",
       "      <td>64076</td>\n",
       "      <td>63386</td>\n",
       "      <td>59138</td>\n",
       "      <td>47734</td>\n",
       "      <td>36326</td>\n",
       "      <td>30554</td>\n",
       "      <td>26058</td>\n",
       "      <td>17218</td>\n",
       "      <td>1014988</td>\n",
       "      <td>1</td>\n",
       "    </tr>\n",
       "    <tr>\n",
       "      <th>3</th>\n",
       "      <td>4</td>\n",
       "      <td>4</td>\n",
       "      <td>11870</td>\n",
       "      <td>9564</td>\n",
       "      <td>7870</td>\n",
       "      <td>7456</td>\n",
       "      <td>10988</td>\n",
       "      <td>28336</td>\n",
       "      <td>48612</td>\n",
       "      <td>61064</td>\n",
       "      <td>...</td>\n",
       "      <td>60140</td>\n",
       "      <td>60180</td>\n",
       "      <td>58860</td>\n",
       "      <td>48382</td>\n",
       "      <td>37356</td>\n",
       "      <td>30996</td>\n",
       "      <td>24552</td>\n",
       "      <td>16972</td>\n",
       "      <td>1013484</td>\n",
       "      <td>1</td>\n",
       "    </tr>\n",
       "    <tr>\n",
       "      <th>4</th>\n",
       "      <td>5</td>\n",
       "      <td>5</td>\n",
       "      <td>5670</td>\n",
       "      <td>4090</td>\n",
       "      <td>3670</td>\n",
       "      <td>3562</td>\n",
       "      <td>5794</td>\n",
       "      <td>15784</td>\n",
       "      <td>29568</td>\n",
       "      <td>40068</td>\n",
       "      <td>...</td>\n",
       "      <td>43720</td>\n",
       "      <td>41550</td>\n",
       "      <td>41202</td>\n",
       "      <td>31128</td>\n",
       "      <td>22650</td>\n",
       "      <td>18142</td>\n",
       "      <td>14146</td>\n",
       "      <td>9194</td>\n",
       "      <td>658008</td>\n",
       "      <td>1</td>\n",
       "    </tr>\n",
       "  </tbody>\n",
       "</table>\n",
       "<p>5 rows × 28 columns</p>\n",
       "</div>"
      ],
      "text/plain": [
       "   day_record  day_of_week  hour_00  hour_01  hour_02  hour_03  hour_04  \\\n",
       "0           1            1    29292    32224    24494    16122     9594   \n",
       "1           2            2    11672     7836     7164     5734     6976   \n",
       "2           3            3    11590     7902     7600     6982    11016   \n",
       "3           4            4    11870     9564     7870     7456    10988   \n",
       "4           5            5     5670     4090     3670     3562     5794   \n",
       "\n",
       "   hour_05  hour_06  hour_07  ...  hour_16  hour_17  hour_18  hour_19  \\\n",
       "0     8856     9672    12078  ...    57452    54128    51896    43528   \n",
       "1    13554    23006    30946  ...    61128    55648    52482    43172   \n",
       "2    28580    48296    58450  ...    64076    63386    59138    47734   \n",
       "3    28336    48612    61064  ...    60140    60180    58860    48382   \n",
       "4    15784    29568    40068  ...    43720    41550    41202    31128   \n",
       "\n",
       "   hour_20  hour_21  hour_22  hour_23  total_sum  week_no  \n",
       "0    35248    30038    24316    17086     820704        1  \n",
       "1    35534    30252    23838    16318     854530        1  \n",
       "2    36326    30554    26058    17218    1014988        1  \n",
       "3    37356    30996    24552    16972    1013484        1  \n",
       "4    22650    18142    14146     9194     658008        1  \n",
       "\n",
       "[5 rows x 28 columns]"
      ]
     },
     "execution_count": 844,
     "metadata": {},
     "output_type": "execute_result"
    }
   ],
   "source": [
    "traffic_volumes_per_hour_by_date = austin_df.groupby(['day_record', 'day_of_week'])[['hour_00', 'hour_01', 'hour_02', 'hour_03', 'hour_04',\n",
    "       'hour_05', 'hour_06', 'hour_07', 'hour_08', 'hour_09', 'hour_10',\n",
    "       'hour_11', 'hour_12', 'hour_13', 'hour_14', 'hour_15', 'hour_16',\n",
    "       'hour_17', 'hour_18', 'hour_19', 'hour_20', 'hour_21', 'hour_22',\n",
    "       'hour_23', 'total_sum']].sum().reset_index()\n",
    "\n",
    "# logic to classify weeks\n",
    "first_sun = traffic_volumes_per_hour_by_date[traffic_volumes_per_hour_by_date['day_of_week'] == 1]['day_record'].min()\n",
    "week_one = range(first_sun,first_sun+7)\n",
    "max_day_record = traffic_volumes_per_hour_by_date['day_record'].max()\n",
    "\n",
    "if first_sun == 1:\n",
    "    week = 1\n",
    "else:\n",
    "    week = 0\n",
    "\n",
    "week_dict = {}\n",
    "week_list = []\n",
    "for day in range(1, max_day_record+1):\n",
    "    week_list.append(day)\n",
    "    if len(week_list) == 7:\n",
    "        week_dict[week] = np.array(week_list)\n",
    "        week_list = []\n",
    "        week += 1\n",
    "    else:\n",
    "        if day == max_day_record:\n",
    "            week_dict[week] = np.array(week_list)\n",
    "\n",
    "flattened_week_dict = [[{v: k} for v in vs] for k, vs in week_dict.items()]\n",
    "final_arr = {}\n",
    "for sub_arr in flattened_week_dict:\n",
    "    for element in sub_arr:\n",
    "        final_arr.update(element)\n",
    "\n",
    "traffic_volumes_per_hour_by_date['week_no'] = [final_arr[day] for day in traffic_volumes_per_hour_by_date['day_record'] if day in final_arr.keys()]\n",
    "traffic_volumes_per_hour_by_date.head()"
   ]
  },
  {
   "cell_type": "code",
   "execution_count": 756,
   "id": "f71d1d2e-4725-4ca0-a411-9abc758cf78c",
   "metadata": {},
   "outputs": [
    {
     "data": {
      "image/png": "[encoded data removed]",
      "text/plain": [
       "<Figure size 640x480 with 1 Axes>"
      ]
     },
     "metadata": {},
     "output_type": "display_data"
    }
   ],
   "source": [
    "dow_week_no_groupby = traffic_volumes_per_hour_by_date.groupby(['week_no', 'day_of_week'])['total_sum'].sum()\n",
    "df_pivot = dow_week_no_groupby.pivot(index='day_of_week', columns='week_no', values='total_sum')\n",
    "\n",
    "df_pivot[[1,2,3,4]].plot(kind='bar', stacked=True)\n",
    "plt.title('Traffic Volume by DOW and Week Number')\n",
    "plt.ylabel('Traffic Volume')\n",
    "plt.xlabel(None)\n",
    "plt.xticks(\n",
    "    range(0,7), \n",
    "    ['Sunday','Monday','Tuesday','Wednesday','Thursday','Friday','Saturday']\n",
    ")\n",
    "handles, labels = plt.gca().get_legend_handles_labels()\n",
    "plt.legend(\n",
    "    title='Date Range', \n",
    "    handles=handles, \n",
    "    ncol=len(df_pivot),\n",
    "    labels=['Jan 1-7', 'Jan 8-14', 'Jan 15-21', 'Jan 22-28']\n",
    ")\n",
    "plt.tick_params(axis='x', rotation=45)\n",
    "plt.ylim(0, 5500000)\n",
    "\n",
    "plt.show()"
   ]
  },
  {
   "cell_type": "markdown",
   "id": "c2ba9511-dedf-466d-9595-589762d7e0d8",
   "metadata": {},
   "source": [
    "# Traffic volumes by hour"
   ]
  },
  {
   "cell_type": "code",
   "execution_count": 972,
   "id": "eaff851e-aea6-405c-8bde-5e37cf2382fa",
   "metadata": {},
   "outputs": [
    {
     "data": {
      "image/png": "[encoded data removed]",
      "text/plain": [
       "<Figure size 640x480 with 1 Axes>"
      ]
     },
     "metadata": {},
     "output_type": "display_data"
    }
   ],
   "source": [
    "hour_vol = traffic_volumes_per_hour_by_date.iloc[:,2:26].sum(axis=0)\n",
    "fig, ax = plt.subplots()\n",
    "\n",
    "ax.bar(\n",
    "    x=hour_vol.index,\n",
    "    height=hour_vol.values\n",
    ")\n",
    "\n",
    "ax.set_ylabel('Total Traffic Volume')\n",
    "ax.set_title('Traffic Volume Sum by Hour')\n",
    "ax.tick_params(axis='x', rotation=45)\n",
    "\n",
    "xtick_mapping = [datetime.strptime(str(time), \"%H\").strftime(\"%-I %p\") for time in range(0,24)]\n",
    "old_xticks = np.array(list(hour_vol.index))[range(0,24,5)]\n",
    "new_xticks = np.array(xtick_mapping)[range(0,24,5)]\n",
    "\n",
    "plt.xticks(old_xticks, new_xticks)\n",
    "plt.show()"
   ]
  },
  {
   "cell_type": "code",
   "execution_count": 1012,
   "id": "4b88a1a0-b8ad-49a0-82ea-9596cdaf61f9",
   "metadata": {},
   "outputs": [],
   "source": [
    "weekends = traffic_volumes_per_hour_by_date[traffic_volumes_per_hour_by_date['day_of_week'].isin([1, 6])]\n",
    "weekdays = traffic_volumes_per_hour_by_date[~traffic_volumes_per_hour_by_date['day_of_week'].isin([1, 6])]"
   ]
  },
  {
   "cell_type": "code",
   "execution_count": 1020,
   "id": "032ce93b-0e47-4b20-b513-41d50b1c3fba",
   "metadata": {},
   "outputs": [
    {
     "data": {
      "image/png": "[encoded data removed]",
      "text/plain": [
       "<Figure size 640x480 with 1 Axes>"
      ]
     },
     "metadata": {},
     "output_type": "display_data"
    }
   ],
   "source": [
    "hour_vol = weekends.iloc[:,2:26].sum(axis=0)\n",
    "\n",
    "fig, ax = plt.subplots()\n",
    "\n",
    "ax.bar(\n",
    "    x=hour_vol.index,\n",
    "    height=hour_vol.values\n",
    ")\n",
    "\n",
    "ax.set_ylabel('Total Traffic Volume')\n",
    "ax.set_title('Traffic Volume Sum by Hour on Weekends')\n",
    "ax.tick_params(axis='x', rotation=45)\n",
    "\n",
    "xtick_mapping = [datetime.strptime(str(time), \"%H\").strftime(\"%-I %p\") for time in range(0,24)]\n",
    "old_xticks = np.array(list(hour_vol.index))[range(0,24,5)]\n",
    "new_xticks = np.array(xtick_mapping)[range(0,24,5)]\n",
    "\n",
    "plt.xticks(old_xticks, new_xticks)\n",
    "plt.show()"
   ]
  },
  {
   "cell_type": "code",
   "execution_count": 1026,
   "id": "c569db06-d011-4977-99cb-8cee04bcdf8b",
   "metadata": {},
   "outputs": [
    {
     "data": {
      "image/png": "[encoded data removed]",
      "text/plain": [
       "<Figure size 640x480 with 1 Axes>"
      ]
     },
     "metadata": {},
     "output_type": "display_data"
    }
   ],
   "source": [
    "hour_vol = weekdays.iloc[:,2:26].sum(axis=0)\n",
    "\n",
    "fig, ax = plt.subplots()\n",
    "\n",
    "ax.bar(\n",
    "    x=hour_vol.index,\n",
    "    height=hour_vol.values\n",
    ")\n",
    "\n",
    "ax.set_ylabel('Total Traffic Volume')\n",
    "ax.set_title('Traffic Volume Sum by Hour on Weekdays')\n",
    "ax.tick_params(axis='x', rotation=45)\n",
    "\n",
    "xtick_mapping = [datetime.strptime(str(time), \"%H\").strftime(\"%-I %p\") for time in range(0,24)]\n",
    "old_xticks = np.array(list(hour_vol.index))[range(0,24,5)]\n",
    "new_xticks = np.array(xtick_mapping)[range(0,24,5)]\n",
    "\n",
    "plt.xticks(old_xticks, new_xticks)\n",
    "plt.show()"
   ]
  },
  {
   "cell_type": "markdown",
   "id": "f8a7b680-e3bd-416e-908d-f7392fd3ea97",
   "metadata": {},
   "source": [
    "# Comparing volumes on the weekend vs. weekdays"
   ]
  },
  {
   "cell_type": "code",
   "execution_count": 1126,
   "id": "c4483b69-6ee5-471e-845c-ed321e6efbda",
   "metadata": {},
   "outputs": [
    {
     "data": {
      "image/png": "[encoded data removed]",
      "text/plain": [
       "<Figure size 640x480 with 1 Axes>"
      ]
     },
     "metadata": {},
     "output_type": "display_data"
    }
   ],
   "source": [
    "weekday_vol_avg = weekdays.iloc[:,2:26].median(axis=0)\n",
    "weekend_vol_avg = weekends.iloc[:,2:26].median(axis=0)\n",
    "\n",
    "X_axis = np.arange(len(cols_to_transform))\n",
    "\n",
    "plt.bar(X_axis + 0.2, weekend_vol_avg, 0.4, label = 'Weekends') \n",
    "plt.bar(X_axis - 0.2, weekday_vol_avg, 0.4, label = 'Weekdays') \n",
    "plt.title('Comparing Median Volumes per Day (Weekends vs. Weekdays)')\n",
    "plt.ylabel('Traffic Volume')\n",
    "plt.xticks([0, 5, 10, 15, 20], ['12 AM', '5 AM', '10 AM', '3 PM', '8 PM'])\n",
    "plt.legend()\n",
    "plt.show()"
   ]
  }
 ],
 "metadata": {
  "kernelspec": {
   "display_name": "Python [conda env:base] *",
   "language": "python",
   "name": "conda-base-py"
  },
  "language_info": {
   "codemirror_mode": {
    "name": "ipython",
    "version": 3
   },
   "file_extension": ".py",
   "mimetype": "text/x-python",
   "name": "python",
   "nbconvert_exporter": "python",
   "pygments_lexer": "ipython3",
   "version": "3.12.7"
  }
 },
 "nbformat": 4,
 "nbformat_minor": 5
}
