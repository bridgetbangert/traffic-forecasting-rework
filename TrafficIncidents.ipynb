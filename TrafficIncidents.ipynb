{
 "cells": [
  {
   "cell_type": "code",
   "execution_count": null,
   "id": "e17d6b7e-b59d-461d-92cf-33c7a64c4f63",
   "metadata": {},
   "outputs": [],
   "source": [
    "# https://support.socrata.com/hc/en-us/articles/115005364207-Access-Data-Insights-Data-using-OData\n",
    "# https://data.austintexas.gov/Transportation-and-Mobility/Real-Time-Traffic-Incident-Reports/dx9v-zd7x/about_data\n",
    "# url = 'https://data.austintexas.gov/api/odata/v4/dx9v-zd7x'"
   ]
  },
  {
   "cell_type": "code",
   "execution_count": 76,
   "id": "90f16605-884b-4754-9fca-eb5c2f3f4d6a",
   "metadata": {},
   "outputs": [
    {
     "ename": "ModuleNotFoundError",
     "evalue": "No module named 'findspark'",
     "output_type": "error",
     "traceback": [
      "\u001b[0;31m---------------------------------------------------------------------------\u001b[0m",
      "\u001b[0;31mModuleNotFoundError\u001b[0m                       Traceback (most recent call last)",
      "Cell \u001b[0;32mIn[76], line 2\u001b[0m\n\u001b[1;32m      1\u001b[0m \u001b[38;5;28;01mfrom\u001b[39;00m \u001b[38;5;21;01mconcurrent\u001b[39;00m\u001b[38;5;21;01m.\u001b[39;00m\u001b[38;5;21;01mfutures\u001b[39;00m \u001b[38;5;28;01mimport\u001b[39;00m ThreadPoolExecutor\n\u001b[0;32m----> 2\u001b[0m \u001b[38;5;28;01mimport\u001b[39;00m \u001b[38;5;21;01mfindspark\u001b[39;00m\n",
      "\u001b[0;31mModuleNotFoundError\u001b[0m: No module named 'findspark'"
     ]
    }
   ],
   "source": [
    "from concurrent.futures import ThreadPoolExecutor\n",
    "import findspark"
   ]
  },
  {
   "cell_type": "code",
   "execution_count": 72,
   "id": "eccc02f4-2d93-47c7-9943-d45dbfbaa679",
   "metadata": {},
   "outputs": [],
   "source": [
    "%run ./DataAPIs.ipynb"
   ]
  },
  {
   "cell_type": "code",
   "execution_count": null,
   "id": "72b8cfa0-b1d8-4588-9897-7418edf59e9b",
   "metadata": {},
   "outputs": [],
   "source": []
  }
 ],
 "metadata": {
  "kernelspec": {
   "display_name": "Python [conda env:base] *",
   "language": "python",
   "name": "conda-base-py"
  },
  "language_info": {
   "codemirror_mode": {
    "name": "ipython",
    "version": 3
   },
   "file_extension": ".py",
   "mimetype": "text/x-python",
   "name": "python",
   "nbconvert_exporter": "python",
   "pygments_lexer": "ipython3",
   "version": "3.12.7"
  }
 },
 "nbformat": 4,
 "nbformat_minor": 5
}
